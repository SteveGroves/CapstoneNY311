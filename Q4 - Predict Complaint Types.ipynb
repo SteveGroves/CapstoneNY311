{
 "cells": [
  {
   "cell_type": "markdown",
   "metadata": {},
   "source": [
    "# Steve Groves: Capstone Project\n",
    "\n",
    "## Notebook 4: Predict Complaint Types\n",
    "\n",
    "### The question asked is: \n",
    "#### Can a predictive model be built for future prediction of the possibility of complaints of the specific type that you identified in response to Question?\n",
    "\n",
    "\n",
    "<font color=black>In this exercise, you will use a feature-engineered dataset to determine whether a predictive model can be built to predict the complaint (of the Complaint Type that you decided to focus on in Week 2) by using past data. <br><be>\n",
    "\n",
    "Using the best model, you need to predict the number of future complaints (of the Complaint Type that you decided to focus on in Question 1)</font>\n"
   ]
  },
  {
   "cell_type": "markdown",
   "metadata": {},
   "source": [
    "### Step 1: Read both data sets in to Pandas Dataframes - Remove Missing Values and Join the Datasets "
   ]
  },
  {
   "cell_type": "code",
   "execution_count": 36,
   "metadata": {},
   "outputs": [],
   "source": [
    "# Read required libraries\n",
    "\n",
    "import pandas as pd\n",
    "import numpy as np\n",
    "from datetime import datetime\n",
    "import seaborn as sns\n",
    "import matplotlib as mpl\n",
    "from matplotlib import pyplot\n",
    "import matplotlib.pyplot as plt\n",
    "sns.set(style=\"whitegrid\")"
   ]
  },
  {
   "cell_type": "markdown",
   "metadata": {},
   "source": [
    "#### Step 1.1: Read the Complaint Data "
   ]
  },
  {
   "cell_type": "code",
   "execution_count": 37,
   "metadata": {},
   "outputs": [
    {
     "name": "stdout",
     "output_type": "stream",
     "text": [
      "Data Load - start Time:  2019-11-20 23:42:38.216663\n",
      "Data Load - Finish Time:  2019-11-20 23:46:44.428213\n",
      "Data load time is: 0:04:06.211550\n"
     ]
    }
   ],
   "source": [
    "# Get the start time of the data load process\n",
    "load_start = datetime.now()\n",
    "print(\"Data Load - start Time: \", load_start)\n",
    "\n",
    "# Specify file directory properties\n",
    "Path = \"C:\\\\Users\\STEPHENGroves\\\\Box Sync\\\\SteveG - Laptop Sync\\\\Work Stuff\\\\Training\\\\PyR\\\\Capstone Project\\\\Data\\\\\"\n",
    "Filename = \"311_Service_Requests_from_2010_to_Present - HDP Only.csv\"\n",
    "\n",
    "Infile = open(Path + Filename)\n",
    "\n",
    "# Read the csv file to a pandas dataframe and parse the two date fields so that they are typed as dates and not string\n",
    "cap_df = pd.read_csv(Infile,parse_dates=['Created Date','Closed Date'])\n",
    "\n",
    "# Get the finish time of the data load process\n",
    "load_end = datetime.now()\n",
    "print(\"Data Load - Finish Time: \", load_end)\n",
    "print(\"Data load time is:\", load_end - load_start)\n",
    "\n",
    "# Close the referenced file and view the first two records of the dataframe\n",
    "Infile.close()\n"
   ]
  },
  {
   "cell_type": "markdown",
   "metadata": {},
   "source": [
    "#### Step 1.2: Read the Pluto data which provides building information "
   ]
  },
  {
   "cell_type": "code",
   "execution_count": 38,
   "metadata": {},
   "outputs": [
    {
     "name": "stdout",
     "output_type": "stream",
     "text": [
      "Data Load - start Time:  2019-11-20 23:46:44.438350\n",
      "Data Load - Finish Time:  2019-11-20 23:46:46.210608\n",
      "Data load time is: 0:00:01.772258\n"
     ]
    }
   ],
   "source": [
    "# Get the start time of the data load process\n",
    "load_start = datetime.now()\n",
    "print(\"Data Load - start Time: \", load_start)\n",
    "\n",
    "# Specify file directory properties\n",
    "Path = \"C:\\\\Users\\STEPHENGroves\\\\Box Sync\\\\SteveG - Laptop Sync\\\\Work Stuff\\\\Training\\\\PyR\\\\Capstone Project\\\\Data\\\\\"\n",
    "Filename = \"pluto_19_reduced_fields.csv\"\n",
    "\n",
    "Infile = open(Path + Filename)\n",
    "\n",
    "# Read the csv file to a pandas dataframe and parse the two date fields so that they are typed as dates and not string\n",
    "pluto_df = pd.read_csv(Infile)\n",
    "\n",
    "# Get the finish time of the data load process\n",
    "load_end = datetime.now()\n",
    "print(\"Data Load - Finish Time: \", load_end)\n",
    "print(\"Data load time is:\", load_end - load_start)\n",
    "\n",
    "# Close the referenced file and view the first two records of the dataframe\n",
    "Infile.close()"
   ]
  },
  {
   "cell_type": "markdown",
   "metadata": {},
   "source": [
    "#### Step 1.3: Complaint Data - Keep all complaint types (model which complaints are likely to be \"Heat / Hot Water\") for Bronx only\n"
   ]
  },
  {
   "cell_type": "code",
   "execution_count": 39,
   "metadata": {},
   "outputs": [
    {
     "data": {
      "text/html": [
       "<div>\n",
       "<style scoped>\n",
       "    .dataframe tbody tr th:only-of-type {\n",
       "        vertical-align: middle;\n",
       "    }\n",
       "\n",
       "    .dataframe tbody tr th {\n",
       "        vertical-align: top;\n",
       "    }\n",
       "\n",
       "    .dataframe thead th {\n",
       "        text-align: right;\n",
       "    }\n",
       "</style>\n",
       "<table border=\"1\" class=\"dataframe\">\n",
       "  <thead>\n",
       "    <tr style=\"text-align: right;\">\n",
       "      <th></th>\n",
       "      <th>Unique Key</th>\n",
       "      <th>Created Date</th>\n",
       "      <th>Closed Date</th>\n",
       "      <th>Complaint Type</th>\n",
       "      <th>Descriptor</th>\n",
       "      <th>Location Type</th>\n",
       "      <th>Incident Zip</th>\n",
       "      <th>Incident Address</th>\n",
       "      <th>Street Name</th>\n",
       "      <th>Address Type</th>\n",
       "      <th>City</th>\n",
       "      <th>Status</th>\n",
       "      <th>Resolution Description</th>\n",
       "      <th>Borough</th>\n",
       "      <th>Latitude</th>\n",
       "      <th>Longitude</th>\n",
       "    </tr>\n",
       "  </thead>\n",
       "  <tbody>\n",
       "    <tr>\n",
       "      <td>2659</td>\n",
       "      <td>15725043</td>\n",
       "      <td>2010-01-13</td>\n",
       "      <td>2010-01-16</td>\n",
       "      <td>HEATING</td>\n",
       "      <td>HEAT</td>\n",
       "      <td>RESIDENTIAL BUILDING</td>\n",
       "      <td>10460.0</td>\n",
       "      <td>770 GARDEN STREET</td>\n",
       "      <td>GARDEN STREET</td>\n",
       "      <td>ADDRESS</td>\n",
       "      <td>BRONX</td>\n",
       "      <td>Closed</td>\n",
       "      <td>The Department of Housing Preservation and Dev...</td>\n",
       "      <td>BRONX</td>\n",
       "      <td>40.849716</td>\n",
       "      <td>-73.883951</td>\n",
       "    </tr>\n",
       "    <tr>\n",
       "      <td>12045</td>\n",
       "      <td>15754345</td>\n",
       "      <td>2010-01-18</td>\n",
       "      <td>NaT</td>\n",
       "      <td>PAINT - PLASTER</td>\n",
       "      <td>WALLS</td>\n",
       "      <td>RESIDENTIAL BUILDING</td>\n",
       "      <td>10456.0</td>\n",
       "      <td>1237 WEBSTER AVENUE</td>\n",
       "      <td>WEBSTER AVENUE</td>\n",
       "      <td>ADDRESS</td>\n",
       "      <td>BRONX</td>\n",
       "      <td>Open</td>\n",
       "      <td>NaN</td>\n",
       "      <td>BRONX</td>\n",
       "      <td>40.832921</td>\n",
       "      <td>-73.909276</td>\n",
       "    </tr>\n",
       "    <tr>\n",
       "      <td>12132</td>\n",
       "      <td>15754432</td>\n",
       "      <td>2010-01-18</td>\n",
       "      <td>NaT</td>\n",
       "      <td>GENERAL CONSTRUCTION</td>\n",
       "      <td>WINDOWS</td>\n",
       "      <td>RESIDENTIAL BUILDING</td>\n",
       "      <td>10456.0</td>\n",
       "      <td>1237 WEBSTER AVENUE</td>\n",
       "      <td>WEBSTER AVENUE</td>\n",
       "      <td>ADDRESS</td>\n",
       "      <td>BRONX</td>\n",
       "      <td>Open</td>\n",
       "      <td>NaN</td>\n",
       "      <td>BRONX</td>\n",
       "      <td>40.832921</td>\n",
       "      <td>-73.909276</td>\n",
       "    </tr>\n",
       "  </tbody>\n",
       "</table>\n",
       "</div>"
      ],
      "text/plain": [
       "       Unique Key Created Date Closed Date        Complaint Type Descriptor  \\\n",
       "2659     15725043   2010-01-13  2010-01-16               HEATING       HEAT   \n",
       "12045    15754345   2010-01-18         NaT       PAINT - PLASTER      WALLS   \n",
       "12132    15754432   2010-01-18         NaT  GENERAL CONSTRUCTION    WINDOWS   \n",
       "\n",
       "              Location Type  Incident Zip     Incident Address  \\\n",
       "2659   RESIDENTIAL BUILDING       10460.0    770 GARDEN STREET   \n",
       "12045  RESIDENTIAL BUILDING       10456.0  1237 WEBSTER AVENUE   \n",
       "12132  RESIDENTIAL BUILDING       10456.0  1237 WEBSTER AVENUE   \n",
       "\n",
       "          Street Name Address Type   City  Status  \\\n",
       "2659    GARDEN STREET      ADDRESS  BRONX  Closed   \n",
       "12045  WEBSTER AVENUE      ADDRESS  BRONX    Open   \n",
       "12132  WEBSTER AVENUE      ADDRESS  BRONX    Open   \n",
       "\n",
       "                                  Resolution Description Borough   Latitude  \\\n",
       "2659   The Department of Housing Preservation and Dev...   BRONX  40.849716   \n",
       "12045                                                NaN   BRONX  40.832921   \n",
       "12132                                                NaN   BRONX  40.832921   \n",
       "\n",
       "       Longitude  \n",
       "2659  -73.883951  \n",
       "12045 -73.909276  \n",
       "12132 -73.909276  "
      ]
     },
     "execution_count": 39,
     "metadata": {},
     "output_type": "execute_result"
    }
   ],
   "source": [
    "# As the questions asks about zip codes, boroughs and streets, we will select a subset of columns, as not all are needed\n",
    "\n",
    "all_bronx_df = cap_df.loc[cap_df['Borough'] == 'BRONX']\n",
    "all_bronx_df.head(3)"
   ]
  },
  {
   "cell_type": "markdown",
   "metadata": {},
   "source": [
    "<font color=blue>\n",
    "All columns of data have been kept - but only for the Bronx \n",
    "</font>\n",
    "\n"
   ]
  },
  {
   "cell_type": "markdown",
   "metadata": {},
   "source": [
    "#### Step 1.4: Complaint Data - Remove missing values from fields required to perform join (this was explored in prevoius notebook)"
   ]
  },
  {
   "cell_type": "code",
   "execution_count": 40,
   "metadata": {},
   "outputs": [
    {
     "name": "stdout",
     "output_type": "stream",
     "text": [
      "Shape of pre-cleaned Bronx complaints is: (1580387, 16)\n",
      "Shape of CLEANED Bronx complaints is:     (1541787, 16)\n"
     ]
    }
   ],
   "source": [
    "# drop rows with missing values\n",
    "all_bronx_clean_df = all_bronx_df.dropna()\n",
    "print('Shape of pre-cleaned Bronx complaints is:',all_bronx_df.shape)\n",
    "print('Shape of CLEANED Bronx complaints is:    ',all_bronx_clean_df.shape)"
   ]
  },
  {
   "cell_type": "markdown",
   "metadata": {},
   "source": [
    "#### Step 1.5: Pluto Data - Remove missing values from fields required to perform join (this was explored in prevoius notebook)"
   ]
  },
  {
   "cell_type": "code",
   "execution_count": 41,
   "metadata": {},
   "outputs": [
    {
     "name": "stdout",
     "output_type": "stream",
     "text": [
      "Shape of pre-cleaned Pluto building information is: (859459, 20)\n",
      "Shape of CLEANED Pluto building information is:     (808254, 20)\n"
     ]
    }
   ],
   "source": [
    "# drop rows with missing values\n",
    "pluto_clean_df = pluto_df.dropna()\n",
    "print('Shape of pre-cleaned Pluto building information is:',pluto_df.shape)\n",
    "print('Shape of CLEANED Pluto building information is:    ',pluto_clean_df.shape)"
   ]
  },
  {
   "cell_type": "markdown",
   "metadata": {},
   "source": [
    "#### Step 1.6: Rename the matching fields in Pluto data to be the same as the field names in the Complaint Data  "
   ]
  },
  {
   "cell_type": "code",
   "execution_count": 42,
   "metadata": {},
   "outputs": [],
   "source": [
    "# This is not required but it saves getting mixed up with difference field names in the join\n",
    "pluto_final_df = pluto_clean_df.rename(columns={'zipcode':'Incident Zip','address':'Incident Address' })\n"
   ]
  },
  {
   "cell_type": "markdown",
   "metadata": {},
   "source": [
    "#### Step 1.7: Check the data types of the key fields in both data files so that the join is possible"
   ]
  },
  {
   "cell_type": "code",
   "execution_count": 43,
   "metadata": {},
   "outputs": [
    {
     "name": "stdout",
     "output_type": "stream",
     "text": [
      "-- Complaints Data Schema --\n",
      "Incident Zip        float64\n",
      "Incident Address     object\n",
      "dtype: object\n",
      "\n",
      "---- Pluto Data Schema ----\n",
      "Incident Zip        float64\n",
      "Incident Address     object\n",
      "dtype: object\n"
     ]
    }
   ],
   "source": [
    "array = ['Incident Zip','Incident Address']\n",
    "\n",
    "print('-- Complaints Data Schema --')\n",
    "print(all_bronx_clean_df[array].dtypes)\n",
    "\n",
    "print('')\n",
    "print('---- Pluto Data Schema ----')\n",
    "print(pluto_final_df[array].dtypes)"
   ]
  },
  {
   "cell_type": "markdown",
   "metadata": {},
   "source": [
    "<font color=blue>\n",
    "Both dataframes have two key fields, named the same, which are of the same data type, therefore the join should be now possible!\n",
    "</font>"
   ]
  },
  {
   "cell_type": "markdown",
   "metadata": {},
   "source": [
    "#### Step 1.8: Join the Complaint dataframe with the Pluto dataframe "
   ]
  },
  {
   "cell_type": "code",
   "execution_count": 44,
   "metadata": {},
   "outputs": [
    {
     "data": {
      "text/html": [
       "<div>\n",
       "<style scoped>\n",
       "    .dataframe tbody tr th:only-of-type {\n",
       "        vertical-align: middle;\n",
       "    }\n",
       "\n",
       "    .dataframe tbody tr th {\n",
       "        vertical-align: top;\n",
       "    }\n",
       "\n",
       "    .dataframe thead th {\n",
       "        text-align: right;\n",
       "    }\n",
       "</style>\n",
       "<table border=\"1\" class=\"dataframe\">\n",
       "  <thead>\n",
       "    <tr style=\"text-align: right;\">\n",
       "      <th></th>\n",
       "      <th>Unique Key</th>\n",
       "      <th>Created Date</th>\n",
       "      <th>Closed Date</th>\n",
       "      <th>Complaint Type</th>\n",
       "      <th>Descriptor</th>\n",
       "      <th>Location Type</th>\n",
       "      <th>Incident Zip</th>\n",
       "      <th>Incident Address</th>\n",
       "      <th>Street Name</th>\n",
       "      <th>Address Type</th>\n",
       "      <th>...</th>\n",
       "      <th>lotdepth</th>\n",
       "      <th>bldgdepth</th>\n",
       "      <th>yearbuilt</th>\n",
       "      <th>yearalter1</th>\n",
       "      <th>builtfar</th>\n",
       "      <th>residfar</th>\n",
       "      <th>commfar</th>\n",
       "      <th>facilfar</th>\n",
       "      <th>xcoord</th>\n",
       "      <th>ycoord</th>\n",
       "    </tr>\n",
       "  </thead>\n",
       "  <tbody>\n",
       "    <tr>\n",
       "      <td>0</td>\n",
       "      <td>15725043</td>\n",
       "      <td>2010-01-13</td>\n",
       "      <td>2010-01-16</td>\n",
       "      <td>HEATING</td>\n",
       "      <td>HEAT</td>\n",
       "      <td>RESIDENTIAL BUILDING</td>\n",
       "      <td>10460.0</td>\n",
       "      <td>770 GARDEN STREET</td>\n",
       "      <td>GARDEN STREET</td>\n",
       "      <td>ADDRESS</td>\n",
       "      <td>...</td>\n",
       "      <td>107.67</td>\n",
       "      <td>88.0</td>\n",
       "      <td>1928.0</td>\n",
       "      <td>0.0</td>\n",
       "      <td>4.8</td>\n",
       "      <td>3.44</td>\n",
       "      <td>0.0</td>\n",
       "      <td>4.8</td>\n",
       "      <td>1016254.0</td>\n",
       "      <td>248864.0</td>\n",
       "    </tr>\n",
       "    <tr>\n",
       "      <td>1</td>\n",
       "      <td>20652232</td>\n",
       "      <td>2011-06-16</td>\n",
       "      <td>2011-06-22</td>\n",
       "      <td>APPLIANCE</td>\n",
       "      <td>ELECTRIC/GAS-RANGE</td>\n",
       "      <td>RESIDENTIAL BUILDING</td>\n",
       "      <td>10460.0</td>\n",
       "      <td>770 GARDEN STREET</td>\n",
       "      <td>GARDEN STREET</td>\n",
       "      <td>ADDRESS</td>\n",
       "      <td>...</td>\n",
       "      <td>107.67</td>\n",
       "      <td>88.0</td>\n",
       "      <td>1928.0</td>\n",
       "      <td>0.0</td>\n",
       "      <td>4.8</td>\n",
       "      <td>3.44</td>\n",
       "      <td>0.0</td>\n",
       "      <td>4.8</td>\n",
       "      <td>1016254.0</td>\n",
       "      <td>248864.0</td>\n",
       "    </tr>\n",
       "  </tbody>\n",
       "</table>\n",
       "<p>2 rows × 34 columns</p>\n",
       "</div>"
      ],
      "text/plain": [
       "   Unique Key Created Date Closed Date Complaint Type          Descriptor  \\\n",
       "0    15725043   2010-01-13  2010-01-16        HEATING                HEAT   \n",
       "1    20652232   2011-06-16  2011-06-22      APPLIANCE  ELECTRIC/GAS-RANGE   \n",
       "\n",
       "          Location Type  Incident Zip   Incident Address    Street Name  \\\n",
       "0  RESIDENTIAL BUILDING       10460.0  770 GARDEN STREET  GARDEN STREET   \n",
       "1  RESIDENTIAL BUILDING       10460.0  770 GARDEN STREET  GARDEN STREET   \n",
       "\n",
       "  Address Type  ... lotdepth bldgdepth yearbuilt yearalter1  builtfar  \\\n",
       "0      ADDRESS  ...   107.67      88.0    1928.0        0.0       4.8   \n",
       "1      ADDRESS  ...   107.67      88.0    1928.0        0.0       4.8   \n",
       "\n",
       "   residfar  commfar  facilfar     xcoord    ycoord  \n",
       "0      3.44      0.0       4.8  1016254.0  248864.0  \n",
       "1      3.44      0.0       4.8  1016254.0  248864.0  \n",
       "\n",
       "[2 rows x 34 columns]"
      ]
     },
     "execution_count": 44,
     "metadata": {},
     "output_type": "execute_result"
    }
   ],
   "source": [
    "# specify the two dataframes and which fields in each are the key fields\n",
    "merged_data = pd.merge(left=all_bronx_clean_df, right=pluto_final_df, left_on=['Incident Zip','Incident Address'], right_on = ['Incident Zip','Incident Address'], how='inner')\n",
    "merged_data.head(2)"
   ]
  },
  {
   "cell_type": "markdown",
   "metadata": {},
   "source": [
    "### Step 2: Understand existing fields and derive any other fields which may be useful in the analysis\n",
    "\n",
    " - Unique Key: Unique reference ID for Complaint\n",
    " - Created Date: Complaint creation date\n",
    " - Incident Zip: Zip code of address of the complaint\n",
    " - Incident Address: Address of the complaint\n",
    " - Street Name: Street of which the complaint is lodged\n",
    " - Borough: Borough of the complaint location\n",
    " - Lot: The number of the tax lot\n",
    " - Lotarea: Total area of the tax lot, expressed in square feet rounded to the nearest integer\n",
    " - BldgArea: The total gross area in square feet\n",
    " - ResArea: An estimate of the exterior dimensions of the portion of the structure(s) allocated for residential use\n",
    " - OfficeArea: An estimate of the exterior dimensions of the portion of the structure(s) allocated for office use\n",
    " - RetailArea: An estimate of the exterior dimensions of the portion of the structure(s) allocated for retail use\n",
    " - NumBldgs: The number of buildings on the tax lot\n",
    " - NumFloors: In the tallest building on the tax lot, the number of full and partial stories starting from the ground \n",
    " - LotDepth: The tax lot's depth measured in feet\n",
    " - BldgDepth: The building’s depth, which is the effective perpendicular distance, measured in feet\n",
    " - YearBuilt: The year construction of the building was completed\n",
    " - YearAlter1: Year of most recent alteration  \n",
    " - BuiltFAR: The Built Floor Area Ratio (FAR) is the total building floor area divided by the area of the tax lot\n",
    " - ResidFAR: The Maximum Allowable Residential Floor Area Ratio (FAR)\n",
    " - CommFAR: The Maximum Allowable Commercial Floor Area Ratio (FAR)\n",
    " - FacilFAR: The Maximum Allowable Community Facility Floor Area Ratio (FAR)\n",
    " - YCoord: The Y coordinate of the XY coordinate pair which depicts the approximate location of the lot\n",
    " - XCoord: The X coordinate of the XY coordinate pair which depicts the approximate location of the lot\n",
    "\n",
    "#### We will need to define the TARGET field (label) which indicates whether the complaint was for \"Heat/Hot Water\" or something else\n"
   ]
  },
  {
   "cell_type": "markdown",
   "metadata": {},
   "source": [
    "#### Step 2.1: Derive new potential Input Features"
   ]
  },
  {
   "cell_type": "code",
   "execution_count": 45,
   "metadata": {},
   "outputs": [],
   "source": [
    "# Add a new column 'Age' (in years) and time since last alteration as well as creation month\n",
    "merged_data['Build Age'] =  (2019 - merged_data['yearbuilt'] )\n",
    "merged_data['Alter Age'] =  (2019 - merged_data['yearalter1'] )\n",
    "merged_data['Create Month'] = pd.DatetimeIndex(merged_data['Created Date']).month"
   ]
  },
  {
   "cell_type": "markdown",
   "metadata": {},
   "source": [
    "#### Step 2.2: Calculate the Target / Label field indicating if complaint is \"Heat / Hot Water\"\n",
    "\n",
    "Create dummy variable for HEAT/HOT WATER incidents which will be the classification label:  <br>\n",
    "1- will be used for HEAT/HOT WATER incidetns <br>\n",
    "0 for all other incidents  "
   ]
  },
  {
   "cell_type": "code",
   "execution_count": 46,
   "metadata": {},
   "outputs": [],
   "source": [
    "# Use the pandas dummies function to create a dummy field ind\n",
    "dummies = pd.get_dummies(merged_data['Complaint Type'])     # call the dummies function for the Complaint Type field\n",
    "heat = dummies[['HEAT/HOT WATER']].astype('int64')          # create df with new field 'Heat/Hot Water' as an int \n",
    "merged_label = pd.concat([merged_data,heat],axis=1)         # join the new 'heat' df (contains dummy) with merged df\n",
    "#merged_label.dtypes"
   ]
  },
  {
   "cell_type": "markdown",
   "metadata": {},
   "source": [
    "#### Step 2.3: Remove any fields from the final df which are not required for model building "
   ]
  },
  {
   "cell_type": "code",
   "execution_count": 47,
   "metadata": {},
   "outputs": [
    {
     "data": {
      "text/html": [
       "<div>\n",
       "<style scoped>\n",
       "    .dataframe tbody tr th:only-of-type {\n",
       "        vertical-align: middle;\n",
       "    }\n",
       "\n",
       "    .dataframe tbody tr th {\n",
       "        vertical-align: top;\n",
       "    }\n",
       "\n",
       "    .dataframe thead th {\n",
       "        text-align: right;\n",
       "    }\n",
       "</style>\n",
       "<table border=\"1\" class=\"dataframe\">\n",
       "  <thead>\n",
       "    <tr style=\"text-align: right;\">\n",
       "      <th></th>\n",
       "      <th>Unique Key</th>\n",
       "      <th>lotarea</th>\n",
       "      <th>resarea</th>\n",
       "      <th>officearea</th>\n",
       "      <th>retailarea</th>\n",
       "      <th>numbldgs</th>\n",
       "      <th>numfloors</th>\n",
       "      <th>lotdepth</th>\n",
       "      <th>bldgdepth</th>\n",
       "      <th>builtfar</th>\n",
       "      <th>residfar</th>\n",
       "      <th>commfar</th>\n",
       "      <th>facilfar</th>\n",
       "      <th>Build Age</th>\n",
       "      <th>Alter Age</th>\n",
       "      <th>Create Month</th>\n",
       "      <th>HEAT/HOT WATER</th>\n",
       "    </tr>\n",
       "  </thead>\n",
       "  <tbody>\n",
       "    <tr>\n",
       "      <td>0</td>\n",
       "      <td>15725043</td>\n",
       "      <td>11020.0</td>\n",
       "      <td>52880.0</td>\n",
       "      <td>0.0</td>\n",
       "      <td>0.0</td>\n",
       "      <td>1.0</td>\n",
       "      <td>6.0</td>\n",
       "      <td>107.67</td>\n",
       "      <td>88.0</td>\n",
       "      <td>4.8</td>\n",
       "      <td>3.44</td>\n",
       "      <td>0.0</td>\n",
       "      <td>4.8</td>\n",
       "      <td>91.0</td>\n",
       "      <td>2019.0</td>\n",
       "      <td>1</td>\n",
       "      <td>0</td>\n",
       "    </tr>\n",
       "    <tr>\n",
       "      <td>1</td>\n",
       "      <td>20652232</td>\n",
       "      <td>11020.0</td>\n",
       "      <td>52880.0</td>\n",
       "      <td>0.0</td>\n",
       "      <td>0.0</td>\n",
       "      <td>1.0</td>\n",
       "      <td>6.0</td>\n",
       "      <td>107.67</td>\n",
       "      <td>88.0</td>\n",
       "      <td>4.8</td>\n",
       "      <td>3.44</td>\n",
       "      <td>0.0</td>\n",
       "      <td>4.8</td>\n",
       "      <td>91.0</td>\n",
       "      <td>2019.0</td>\n",
       "      <td>6</td>\n",
       "      <td>0</td>\n",
       "    </tr>\n",
       "    <tr>\n",
       "      <td>2</td>\n",
       "      <td>20652734</td>\n",
       "      <td>11020.0</td>\n",
       "      <td>52880.0</td>\n",
       "      <td>0.0</td>\n",
       "      <td>0.0</td>\n",
       "      <td>1.0</td>\n",
       "      <td>6.0</td>\n",
       "      <td>107.67</td>\n",
       "      <td>88.0</td>\n",
       "      <td>4.8</td>\n",
       "      <td>3.44</td>\n",
       "      <td>0.0</td>\n",
       "      <td>4.8</td>\n",
       "      <td>91.0</td>\n",
       "      <td>2019.0</td>\n",
       "      <td>6</td>\n",
       "      <td>0</td>\n",
       "    </tr>\n",
       "  </tbody>\n",
       "</table>\n",
       "</div>"
      ],
      "text/plain": [
       "   Unique Key  lotarea  resarea  officearea  retailarea  numbldgs  numfloors  \\\n",
       "0    15725043  11020.0  52880.0         0.0         0.0       1.0        6.0   \n",
       "1    20652232  11020.0  52880.0         0.0         0.0       1.0        6.0   \n",
       "2    20652734  11020.0  52880.0         0.0         0.0       1.0        6.0   \n",
       "\n",
       "   lotdepth  bldgdepth  builtfar  residfar  commfar  facilfar  Build Age  \\\n",
       "0    107.67       88.0       4.8      3.44      0.0       4.8       91.0   \n",
       "1    107.67       88.0       4.8      3.44      0.0       4.8       91.0   \n",
       "2    107.67       88.0       4.8      3.44      0.0       4.8       91.0   \n",
       "\n",
       "   Alter Age  Create Month  HEAT/HOT WATER  \n",
       "0     2019.0             1               0  \n",
       "1     2019.0             6               0  \n",
       "2     2019.0             6               0  "
      ]
     },
     "execution_count": 47,
     "metadata": {},
     "output_type": "execute_result"
    }
   ],
   "source": [
    "# Only keep variables that are going to be needed forward\n",
    "modelling_df = merged_label.drop(['lot','bldgarea','Created Date','Closed Date','Complaint Type','Descriptor','Location Type','Incident Zip','Incident Address','Street Name','Address Type','City','Status','Resolution Description','Borough','yearbuilt','yearalter1', 'Latitude','Longitude','xcoord','ycoord'],axis=1)\n",
    "modelling_df.head(3)"
   ]
  },
  {
   "cell_type": "markdown",
   "metadata": {},
   "source": [
    "### Step 3: Build Classification models to predict Complaint Type of Heat / Hot Water"
   ]
  },
  {
   "cell_type": "markdown",
   "metadata": {},
   "source": [
    "#### Step 3.1: Import Libraries required for Modelling"
   ]
  },
  {
   "cell_type": "code",
   "execution_count": 48,
   "metadata": {},
   "outputs": [],
   "source": [
    "from sklearn import datasets, linear_model, metrics\n",
    "from sklearn.linear_model import LogisticRegression\n",
    "from sklearn.model_selection import train_test_split\n",
    "from sklearn.metrics import accuracy_score\n",
    "from sklearn.metrics import jaccard_score\n",
    "from sklearn.metrics import classification_report, confusion_matrix\n",
    "from sklearn.ensemble import RandomForestClassifier \n",
    "from sklearn.metrics import roc_auc_score"
   ]
  },
  {
   "cell_type": "markdown",
   "metadata": {},
   "source": [
    "#### Step 3.2: What is the proportion of target group in the label field"
   ]
  },
  {
   "cell_type": "code",
   "execution_count": 49,
   "metadata": {},
   "outputs": [
    {
     "name": "stdout",
     "output_type": "stream",
     "text": [
      "HEAT/HOT WATER complaints: \t 285058 \n",
      "Other complaints: \t\t 935521\n",
      "Target Group Proportion: \t 23.3 %\n"
     ]
    }
   ],
   "source": [
    "count_class_0, count_class_heat = modelling_df['HEAT/HOT WATER'].value_counts()\n",
    "\n",
    "print('HEAT/HOT WATER complaints: \\t', count_class_heat, '\\nOther complaints: \\t\\t', count_class_0)\n",
    "print('Target Group Proportion: \\t',(int(count_class_heat / (count_class_heat+count_class_0) * 1000) / 10 ),'%')"
   ]
  },
  {
   "cell_type": "markdown",
   "metadata": {},
   "source": [
    "<font color='blue'>\n",
    "HEAT/HOT WATER complaints consititute around 23% which is sufficient for non-Neural network based models.<br> \n",
    "I will create the initial models on true proportions of target field and will consider balancing if the algorithm requires\n",
    "<font>"
   ]
  },
  {
   "cell_type": "markdown",
   "metadata": {},
   "source": [
    "#### Step 3.3 - Create Test / Train data sets for sklearn models and define label and input fields"
   ]
  },
  {
   "cell_type": "code",
   "execution_count": 50,
   "metadata": {},
   "outputs": [],
   "source": [
    "# define the target variable (dependent variable) as y and he input fields as x... split the data in to train/test on each\n",
    "y = modelling_df['HEAT/HOT WATER']\n",
    "x = modelling_df.drop(['Unique Key','HEAT/HOT WATER'],axis=1)\n",
    "x_train, x_test, y_train, y_test = train_test_split(x, y, test_size=0.3)\n"
   ]
  },
  {
   "cell_type": "markdown",
   "metadata": {},
   "source": [
    "#### Step 3.4: Logistic Regression: Build & Evaluate a model to predict whether a complaint will be for Heat/Hot Water or not"
   ]
  },
  {
   "cell_type": "code",
   "execution_count": 51,
   "metadata": {},
   "outputs": [],
   "source": [
    "# Define the model structure and then apply that structure to the training data\n",
    "LR = LogisticRegression(C=0.1,tol=0.0001, solver='liblinear',fit_intercept=True,)\n",
    "lr_model = LR.fit(x_train,y_train)\n",
    "#lr_model"
   ]
  },
  {
   "cell_type": "code",
   "execution_count": 52,
   "metadata": {},
   "outputs": [
    {
     "name": "stdout",
     "output_type": "stream",
     "text": [
      "Model Accuracy: \t 0.7653956862038266\n",
      "Jacard Similarity Score: 5.819976487294991e-05\n",
      "Confusion Matrix:\n",
      "[[280263     10]\n",
      " [ 85896      5]]\n",
      "Classification Report:\n",
      "              precision    recall  f1-score   support\n",
      "\n",
      "           0       0.77      1.00      0.87    280273\n",
      "           1       0.33      0.00      0.00     85901\n",
      "\n",
      "    accuracy                           0.77    366174\n",
      "   macro avg       0.55      0.50      0.43    366174\n",
      "weighted avg       0.66      0.77      0.66    366174\n",
      "\n"
     ]
    }
   ],
   "source": [
    "# Evaluate the LogReg Model\n",
    "yhat_lr = lr_model.predict(x_test)\n",
    "print('Model Accuracy: \\t', accuracy_score(y_test,yhat_lr))\n",
    "print('Jacard Similarity Score:', jaccard_score(y_test,yhat_lr,pos_label=1))\n",
    "print('Confusion Matrix:')\n",
    "print(confusion_matrix(y_test, yhat_lr, labels=[0,1]))    # Label defines the row/col order of matrix\n",
    "print('Classification Report:')\n",
    "print(classification_report(y_test, yhat_lr))"
   ]
  },
  {
   "cell_type": "code",
   "execution_count": 53,
   "metadata": {},
   "outputs": [],
   "source": [
    "#Score the testing data and get predictive values and confidences\n",
    "pred = pd.DataFrame(lr_model.predict(x_test))              # Get predicted values\n",
    "pred.columns = [\"Pred Complaint\"]\n",
    "\n",
    "pred_prob = pd.DataFrame(lr_model.predict_proba(x_test))    # Get classification probabilities\n",
    "pred_prob.columns = [\"Prob_0\", \"Prob_1\"]"
   ]
  },
  {
   "cell_type": "code",
   "execution_count": 54,
   "metadata": {},
   "outputs": [
    {
     "data": {
      "text/html": [
       "<div>\n",
       "<style scoped>\n",
       "    .dataframe tbody tr th:only-of-type {\n",
       "        vertical-align: middle;\n",
       "    }\n",
       "\n",
       "    .dataframe tbody tr th {\n",
       "        vertical-align: top;\n",
       "    }\n",
       "\n",
       "    .dataframe thead th {\n",
       "        text-align: right;\n",
       "    }\n",
       "</style>\n",
       "<table border=\"1\" class=\"dataframe\">\n",
       "  <thead>\n",
       "    <tr style=\"text-align: right;\">\n",
       "      <th></th>\n",
       "      <th>lotarea</th>\n",
       "      <th>resarea</th>\n",
       "      <th>officearea</th>\n",
       "      <th>retailarea</th>\n",
       "      <th>numbldgs</th>\n",
       "      <th>numfloors</th>\n",
       "      <th>lotdepth</th>\n",
       "      <th>bldgdepth</th>\n",
       "      <th>builtfar</th>\n",
       "      <th>residfar</th>\n",
       "      <th>commfar</th>\n",
       "      <th>facilfar</th>\n",
       "      <th>Build Age</th>\n",
       "      <th>Alter Age</th>\n",
       "      <th>Create Month</th>\n",
       "      <th>HEAT/HOT WATER</th>\n",
       "      <th>Pred Complaint</th>\n",
       "      <th>Prob_0</th>\n",
       "      <th>Prob_1</th>\n",
       "    </tr>\n",
       "  </thead>\n",
       "  <tbody>\n",
       "    <tr>\n",
       "      <td>0</td>\n",
       "      <td>NaN</td>\n",
       "      <td>NaN</td>\n",
       "      <td>NaN</td>\n",
       "      <td>NaN</td>\n",
       "      <td>NaN</td>\n",
       "      <td>NaN</td>\n",
       "      <td>NaN</td>\n",
       "      <td>NaN</td>\n",
       "      <td>NaN</td>\n",
       "      <td>NaN</td>\n",
       "      <td>NaN</td>\n",
       "      <td>NaN</td>\n",
       "      <td>NaN</td>\n",
       "      <td>NaN</td>\n",
       "      <td>NaN</td>\n",
       "      <td>NaN</td>\n",
       "      <td>0.0</td>\n",
       "      <td>0.795930</td>\n",
       "      <td>0.204070</td>\n",
       "    </tr>\n",
       "    <tr>\n",
       "      <td>1</td>\n",
       "      <td>11020.0</td>\n",
       "      <td>52880.0</td>\n",
       "      <td>0.0</td>\n",
       "      <td>0.0</td>\n",
       "      <td>1.0</td>\n",
       "      <td>6.0</td>\n",
       "      <td>107.67</td>\n",
       "      <td>88.0</td>\n",
       "      <td>4.80</td>\n",
       "      <td>3.44</td>\n",
       "      <td>0.0</td>\n",
       "      <td>4.8</td>\n",
       "      <td>91.0</td>\n",
       "      <td>2019.0</td>\n",
       "      <td>6.0</td>\n",
       "      <td>0.0</td>\n",
       "      <td>0.0</td>\n",
       "      <td>0.764323</td>\n",
       "      <td>0.235677</td>\n",
       "    </tr>\n",
       "    <tr>\n",
       "      <td>2</td>\n",
       "      <td>11020.0</td>\n",
       "      <td>52880.0</td>\n",
       "      <td>0.0</td>\n",
       "      <td>0.0</td>\n",
       "      <td>1.0</td>\n",
       "      <td>6.0</td>\n",
       "      <td>107.67</td>\n",
       "      <td>88.0</td>\n",
       "      <td>4.80</td>\n",
       "      <td>3.44</td>\n",
       "      <td>0.0</td>\n",
       "      <td>4.8</td>\n",
       "      <td>91.0</td>\n",
       "      <td>2019.0</td>\n",
       "      <td>6.0</td>\n",
       "      <td>0.0</td>\n",
       "      <td>0.0</td>\n",
       "      <td>0.788828</td>\n",
       "      <td>0.211172</td>\n",
       "    </tr>\n",
       "    <tr>\n",
       "      <td>3</td>\n",
       "      <td>NaN</td>\n",
       "      <td>NaN</td>\n",
       "      <td>NaN</td>\n",
       "      <td>NaN</td>\n",
       "      <td>NaN</td>\n",
       "      <td>NaN</td>\n",
       "      <td>NaN</td>\n",
       "      <td>NaN</td>\n",
       "      <td>NaN</td>\n",
       "      <td>NaN</td>\n",
       "      <td>NaN</td>\n",
       "      <td>NaN</td>\n",
       "      <td>NaN</td>\n",
       "      <td>NaN</td>\n",
       "      <td>NaN</td>\n",
       "      <td>NaN</td>\n",
       "      <td>0.0</td>\n",
       "      <td>0.796504</td>\n",
       "      <td>0.203496</td>\n",
       "    </tr>\n",
       "    <tr>\n",
       "      <td>4</td>\n",
       "      <td>11020.0</td>\n",
       "      <td>52880.0</td>\n",
       "      <td>0.0</td>\n",
       "      <td>0.0</td>\n",
       "      <td>1.0</td>\n",
       "      <td>6.0</td>\n",
       "      <td>107.67</td>\n",
       "      <td>88.0</td>\n",
       "      <td>4.80</td>\n",
       "      <td>3.44</td>\n",
       "      <td>0.0</td>\n",
       "      <td>4.8</td>\n",
       "      <td>91.0</td>\n",
       "      <td>2019.0</td>\n",
       "      <td>8.0</td>\n",
       "      <td>0.0</td>\n",
       "      <td>0.0</td>\n",
       "      <td>0.665588</td>\n",
       "      <td>0.334412</td>\n",
       "    </tr>\n",
       "    <tr>\n",
       "      <td>...</td>\n",
       "      <td>...</td>\n",
       "      <td>...</td>\n",
       "      <td>...</td>\n",
       "      <td>...</td>\n",
       "      <td>...</td>\n",
       "      <td>...</td>\n",
       "      <td>...</td>\n",
       "      <td>...</td>\n",
       "      <td>...</td>\n",
       "      <td>...</td>\n",
       "      <td>...</td>\n",
       "      <td>...</td>\n",
       "      <td>...</td>\n",
       "      <td>...</td>\n",
       "      <td>...</td>\n",
       "      <td>...</td>\n",
       "      <td>...</td>\n",
       "      <td>...</td>\n",
       "      <td>...</td>\n",
       "    </tr>\n",
       "    <tr>\n",
       "      <td>1220565</td>\n",
       "      <td>4350.0</td>\n",
       "      <td>20057.0</td>\n",
       "      <td>0.0</td>\n",
       "      <td>0.0</td>\n",
       "      <td>1.0</td>\n",
       "      <td>6.0</td>\n",
       "      <td>50.00</td>\n",
       "      <td>50.0</td>\n",
       "      <td>4.61</td>\n",
       "      <td>3.44</td>\n",
       "      <td>0.0</td>\n",
       "      <td>4.8</td>\n",
       "      <td>97.0</td>\n",
       "      <td>2019.0</td>\n",
       "      <td>12.0</td>\n",
       "      <td>0.0</td>\n",
       "      <td>NaN</td>\n",
       "      <td>NaN</td>\n",
       "      <td>NaN</td>\n",
       "    </tr>\n",
       "    <tr>\n",
       "      <td>1220566</td>\n",
       "      <td>4350.0</td>\n",
       "      <td>20057.0</td>\n",
       "      <td>0.0</td>\n",
       "      <td>0.0</td>\n",
       "      <td>1.0</td>\n",
       "      <td>6.0</td>\n",
       "      <td>50.00</td>\n",
       "      <td>50.0</td>\n",
       "      <td>4.61</td>\n",
       "      <td>3.44</td>\n",
       "      <td>0.0</td>\n",
       "      <td>4.8</td>\n",
       "      <td>97.0</td>\n",
       "      <td>2019.0</td>\n",
       "      <td>12.0</td>\n",
       "      <td>0.0</td>\n",
       "      <td>NaN</td>\n",
       "      <td>NaN</td>\n",
       "      <td>NaN</td>\n",
       "    </tr>\n",
       "    <tr>\n",
       "      <td>1220571</td>\n",
       "      <td>4350.0</td>\n",
       "      <td>20057.0</td>\n",
       "      <td>0.0</td>\n",
       "      <td>0.0</td>\n",
       "      <td>1.0</td>\n",
       "      <td>6.0</td>\n",
       "      <td>50.00</td>\n",
       "      <td>50.0</td>\n",
       "      <td>4.61</td>\n",
       "      <td>3.44</td>\n",
       "      <td>0.0</td>\n",
       "      <td>4.8</td>\n",
       "      <td>97.0</td>\n",
       "      <td>2019.0</td>\n",
       "      <td>1.0</td>\n",
       "      <td>0.0</td>\n",
       "      <td>NaN</td>\n",
       "      <td>NaN</td>\n",
       "      <td>NaN</td>\n",
       "    </tr>\n",
       "    <tr>\n",
       "      <td>1220575</td>\n",
       "      <td>4350.0</td>\n",
       "      <td>20057.0</td>\n",
       "      <td>0.0</td>\n",
       "      <td>0.0</td>\n",
       "      <td>1.0</td>\n",
       "      <td>6.0</td>\n",
       "      <td>50.00</td>\n",
       "      <td>50.0</td>\n",
       "      <td>4.61</td>\n",
       "      <td>3.44</td>\n",
       "      <td>0.0</td>\n",
       "      <td>4.8</td>\n",
       "      <td>97.0</td>\n",
       "      <td>2019.0</td>\n",
       "      <td>1.0</td>\n",
       "      <td>0.0</td>\n",
       "      <td>NaN</td>\n",
       "      <td>NaN</td>\n",
       "      <td>NaN</td>\n",
       "    </tr>\n",
       "    <tr>\n",
       "      <td>1220578</td>\n",
       "      <td>4350.0</td>\n",
       "      <td>20057.0</td>\n",
       "      <td>0.0</td>\n",
       "      <td>0.0</td>\n",
       "      <td>1.0</td>\n",
       "      <td>6.0</td>\n",
       "      <td>50.00</td>\n",
       "      <td>50.0</td>\n",
       "      <td>4.61</td>\n",
       "      <td>3.44</td>\n",
       "      <td>0.0</td>\n",
       "      <td>4.8</td>\n",
       "      <td>97.0</td>\n",
       "      <td>2019.0</td>\n",
       "      <td>1.0</td>\n",
       "      <td>0.0</td>\n",
       "      <td>NaN</td>\n",
       "      <td>NaN</td>\n",
       "      <td>NaN</td>\n",
       "    </tr>\n",
       "  </tbody>\n",
       "</table>\n",
       "<p>622689 rows × 19 columns</p>\n",
       "</div>"
      ],
      "text/plain": [
       "         lotarea  resarea  officearea  retailarea  numbldgs  numfloors  \\\n",
       "0            NaN      NaN         NaN         NaN       NaN        NaN   \n",
       "1        11020.0  52880.0         0.0         0.0       1.0        6.0   \n",
       "2        11020.0  52880.0         0.0         0.0       1.0        6.0   \n",
       "3            NaN      NaN         NaN         NaN       NaN        NaN   \n",
       "4        11020.0  52880.0         0.0         0.0       1.0        6.0   \n",
       "...          ...      ...         ...         ...       ...        ...   \n",
       "1220565   4350.0  20057.0         0.0         0.0       1.0        6.0   \n",
       "1220566   4350.0  20057.0         0.0         0.0       1.0        6.0   \n",
       "1220571   4350.0  20057.0         0.0         0.0       1.0        6.0   \n",
       "1220575   4350.0  20057.0         0.0         0.0       1.0        6.0   \n",
       "1220578   4350.0  20057.0         0.0         0.0       1.0        6.0   \n",
       "\n",
       "         lotdepth  bldgdepth  builtfar  residfar  commfar  facilfar  \\\n",
       "0             NaN        NaN       NaN       NaN      NaN       NaN   \n",
       "1          107.67       88.0      4.80      3.44      0.0       4.8   \n",
       "2          107.67       88.0      4.80      3.44      0.0       4.8   \n",
       "3             NaN        NaN       NaN       NaN      NaN       NaN   \n",
       "4          107.67       88.0      4.80      3.44      0.0       4.8   \n",
       "...           ...        ...       ...       ...      ...       ...   \n",
       "1220565     50.00       50.0      4.61      3.44      0.0       4.8   \n",
       "1220566     50.00       50.0      4.61      3.44      0.0       4.8   \n",
       "1220571     50.00       50.0      4.61      3.44      0.0       4.8   \n",
       "1220575     50.00       50.0      4.61      3.44      0.0       4.8   \n",
       "1220578     50.00       50.0      4.61      3.44      0.0       4.8   \n",
       "\n",
       "         Build Age  Alter Age  Create Month  HEAT/HOT WATER  Pred Complaint  \\\n",
       "0              NaN        NaN           NaN             NaN             0.0   \n",
       "1             91.0     2019.0           6.0             0.0             0.0   \n",
       "2             91.0     2019.0           6.0             0.0             0.0   \n",
       "3              NaN        NaN           NaN             NaN             0.0   \n",
       "4             91.0     2019.0           8.0             0.0             0.0   \n",
       "...            ...        ...           ...             ...             ...   \n",
       "1220565       97.0     2019.0          12.0             0.0             NaN   \n",
       "1220566       97.0     2019.0          12.0             0.0             NaN   \n",
       "1220571       97.0     2019.0           1.0             0.0             NaN   \n",
       "1220575       97.0     2019.0           1.0             0.0             NaN   \n",
       "1220578       97.0     2019.0           1.0             0.0             NaN   \n",
       "\n",
       "           Prob_0    Prob_1  \n",
       "0        0.795930  0.204070  \n",
       "1        0.764323  0.235677  \n",
       "2        0.788828  0.211172  \n",
       "3        0.796504  0.203496  \n",
       "4        0.665588  0.334412  \n",
       "...           ...       ...  \n",
       "1220565       NaN       NaN  \n",
       "1220566       NaN       NaN  \n",
       "1220571       NaN       NaN  \n",
       "1220575       NaN       NaN  \n",
       "1220578       NaN       NaN  \n",
       "\n",
       "[622689 rows x 19 columns]"
      ]
     },
     "execution_count": 54,
     "metadata": {},
     "output_type": "execute_result"
    }
   ],
   "source": [
    "# Create a single dataframe with the test data and the predictions concatenated\n",
    "logreg_scored_data = pd.concat([x_test, y_test, pred, pred_prob], axis=1)\n",
    "logreg_scored_data\n"
   ]
  },
  {
   "cell_type": "markdown",
   "metadata": {},
   "source": [
    "<font color=blue>\n",
    "Whilst a Logistic Regression model has been created, and the associated accuracy measures and score values obtained, the model summaries do not indicate that a good model has been created. <br><br>\n",
    "The model accuracy is high, but this is because it is classifying almost everyone as \"non Heat/HotWater\", which is by far the biggest group. Whilst the accuracy is high, the classification rates on the confusion matrix are poor, as is the Jacard Score\n",
    "</font>    "
   ]
  },
  {
   "cell_type": "markdown",
   "metadata": {},
   "source": [
    "#### Step 3.5: Random Forest Model: Build & Evaluate a model to predict whether a complaint will be for Heat/Hot Water or not"
   ]
  },
  {
   "cell_type": "code",
   "execution_count": 55,
   "metadata": {},
   "outputs": [
    {
     "name": "stderr",
     "output_type": "stream",
     "text": [
      "C:\\Users\\STEPHENGroves\\Anaconda3\\lib\\site-packages\\sklearn\\ensemble\\forest.py:245: FutureWarning: The default value of n_estimators will change from 10 in version 0.20 to 100 in 0.22.\n",
      "  \"10 in version 0.20 to 100 in 0.22.\", FutureWarning)\n"
     ]
    }
   ],
   "source": [
    "# Define the model structure and then apply that structure to the training data\n",
    "RF = RandomForestClassifier(criterion='gini',max_depth=20,min_samples_split=1000, min_samples_leaf=500)\n",
    "rf_model = RF.fit(x_train,y_train)\n",
    "#rf_model"
   ]
  },
  {
   "cell_type": "code",
   "execution_count": 56,
   "metadata": {},
   "outputs": [
    {
     "name": "stdout",
     "output_type": "stream",
     "text": [
      "Mean Model Accuracy: \t [0 0 0 ... 0 0 0]\n",
      "AUC & ROC Score: \t 0.5338523978530086\n",
      "Confusion Matrix:\n",
      "[[277532   2741]\n",
      " [ 79245   6656]]\n",
      "Classification Report:\n",
      "              precision    recall  f1-score   support\n",
      "\n",
      "           0       0.78      0.99      0.87    280273\n",
      "           1       0.71      0.08      0.14     85901\n",
      "\n",
      "    accuracy                           0.78    366174\n",
      "   macro avg       0.74      0.53      0.51    366174\n",
      "weighted avg       0.76      0.78      0.70    366174\n",
      "\n"
     ]
    }
   ],
   "source": [
    "# Evaluate the Random Forest Model\n",
    "yhat_rf = rf_model.predict(x_test)\n",
    "print('Mean Model Accuracy: \\t', yhat_rf)\n",
    "print('AUC & ROC Score: \\t',roc_auc_score(y_test, yhat_rf))\n",
    "print('Confusion Matrix:')\n",
    "print(confusion_matrix(y_test, yhat_rf))    # Label defines the row/col order of matrix\n",
    "print('Classification Report:')\n",
    "print(classification_report(y_test, yhat_rf))\n"
   ]
  },
  {
   "cell_type": "code",
   "execution_count": 57,
   "metadata": {},
   "outputs": [
    {
     "data": {
      "text/html": [
       "<div>\n",
       "<style scoped>\n",
       "    .dataframe tbody tr th:only-of-type {\n",
       "        vertical-align: middle;\n",
       "    }\n",
       "\n",
       "    .dataframe tbody tr th {\n",
       "        vertical-align: top;\n",
       "    }\n",
       "\n",
       "    .dataframe thead th {\n",
       "        text-align: right;\n",
       "    }\n",
       "</style>\n",
       "<table border=\"1\" class=\"dataframe\">\n",
       "  <thead>\n",
       "    <tr style=\"text-align: right;\">\n",
       "      <th></th>\n",
       "      <th>Pred Importance</th>\n",
       "    </tr>\n",
       "  </thead>\n",
       "  <tbody>\n",
       "    <tr>\n",
       "      <td>Create Month</td>\n",
       "      <td>0.518167</td>\n",
       "    </tr>\n",
       "    <tr>\n",
       "      <td>lotarea</td>\n",
       "      <td>0.074311</td>\n",
       "    </tr>\n",
       "    <tr>\n",
       "      <td>resarea</td>\n",
       "      <td>0.065763</td>\n",
       "    </tr>\n",
       "    <tr>\n",
       "      <td>Build Age</td>\n",
       "      <td>0.064821</td>\n",
       "    </tr>\n",
       "    <tr>\n",
       "      <td>builtfar</td>\n",
       "      <td>0.060339</td>\n",
       "    </tr>\n",
       "    <tr>\n",
       "      <td>lotdepth</td>\n",
       "      <td>0.056851</td>\n",
       "    </tr>\n",
       "    <tr>\n",
       "      <td>bldgdepth</td>\n",
       "      <td>0.053808</td>\n",
       "    </tr>\n",
       "    <tr>\n",
       "      <td>residfar</td>\n",
       "      <td>0.023137</td>\n",
       "    </tr>\n",
       "    <tr>\n",
       "      <td>Alter Age</td>\n",
       "      <td>0.021293</td>\n",
       "    </tr>\n",
       "    <tr>\n",
       "      <td>numfloors</td>\n",
       "      <td>0.019683</td>\n",
       "    </tr>\n",
       "    <tr>\n",
       "      <td>retailarea</td>\n",
       "      <td>0.014820</td>\n",
       "    </tr>\n",
       "    <tr>\n",
       "      <td>officearea</td>\n",
       "      <td>0.013466</td>\n",
       "    </tr>\n",
       "    <tr>\n",
       "      <td>facilfar</td>\n",
       "      <td>0.011513</td>\n",
       "    </tr>\n",
       "    <tr>\n",
       "      <td>numbldgs</td>\n",
       "      <td>0.001451</td>\n",
       "    </tr>\n",
       "    <tr>\n",
       "      <td>commfar</td>\n",
       "      <td>0.000579</td>\n",
       "    </tr>\n",
       "  </tbody>\n",
       "</table>\n",
       "</div>"
      ],
      "text/plain": [
       "              Pred Importance\n",
       "Create Month         0.518167\n",
       "lotarea              0.074311\n",
       "resarea              0.065763\n",
       "Build Age            0.064821\n",
       "builtfar             0.060339\n",
       "lotdepth             0.056851\n",
       "bldgdepth            0.053808\n",
       "residfar             0.023137\n",
       "Alter Age            0.021293\n",
       "numfloors            0.019683\n",
       "retailarea           0.014820\n",
       "officearea           0.013466\n",
       "facilfar             0.011513\n",
       "numbldgs             0.001451\n",
       "commfar              0.000579"
      ]
     },
     "execution_count": 57,
     "metadata": {},
     "output_type": "execute_result"
    }
   ],
   "source": [
    "# Obtain Model Understanding and Interpretability\n",
    "rf_feature_imp = pd.DataFrame(rf_model.feature_importances_,index = x_train.columns,\n",
    "                                    columns=['Pred Importance']).sort_values('Pred Importance', ascending=False)\n",
    "rf_feature_imp"
   ]
  },
  {
   "cell_type": "code",
   "execution_count": 58,
   "metadata": {},
   "outputs": [
    {
     "data": {
      "image/png": "[encoded data removed]",
      "text/plain": [
       "<Figure size 864x576 with 1 Axes>"
      ]
     },
     "metadata": {},
     "output_type": "display_data"
    }
   ],
   "source": [
    "# Display feature importance visually\n",
    "import matplotlib.pyplot as plt\n",
    "rf_feature_imp.sort_values('Pred Importance',inplace=True)\n",
    "rf_feature_imp.plot(kind='barh', figsize=(12, 8))\n",
    "\n",
    "plt.xlabel('Importance', fontsize=16) # add to x-label to the plot\n",
    "plt.ylabel('Feature', fontsize=16) # add y-label to the plot\n",
    "plt.title('Random Forest Classifier Feature Importance', fontsize=20) # add title to the plot\n",
    "\n",
    "plt.show()"
   ]
  },
  {
   "cell_type": "code",
   "execution_count": 59,
   "metadata": {},
   "outputs": [],
   "source": [
    "#Score the testing data and get predictive values and confidences\n",
    "pred_rf = pd.DataFrame(rf_model.predict(x_test))              # Get predicted values\n",
    "pred_rf.columns = [\"Pred Complaint\"]\n",
    "\n",
    "pred_prob_rf = pd.DataFrame(rf_model.predict_proba(x_test))    # Get classification probabilities\n",
    "pred_prob_rf.columns = [\"Prob_0\", \"Prob_1\"]"
   ]
  },
  {
   "cell_type": "code",
   "execution_count": 60,
   "metadata": {},
   "outputs": [
    {
     "data": {
      "text/html": [
       "<div>\n",
       "<style scoped>\n",
       "    .dataframe tbody tr th:only-of-type {\n",
       "        vertical-align: middle;\n",
       "    }\n",
       "\n",
       "    .dataframe tbody tr th {\n",
       "        vertical-align: top;\n",
       "    }\n",
       "\n",
       "    .dataframe thead th {\n",
       "        text-align: right;\n",
       "    }\n",
       "</style>\n",
       "<table border=\"1\" class=\"dataframe\">\n",
       "  <thead>\n",
       "    <tr style=\"text-align: right;\">\n",
       "      <th></th>\n",
       "      <th>lotarea</th>\n",
       "      <th>resarea</th>\n",
       "      <th>officearea</th>\n",
       "      <th>retailarea</th>\n",
       "      <th>numbldgs</th>\n",
       "      <th>numfloors</th>\n",
       "      <th>lotdepth</th>\n",
       "      <th>bldgdepth</th>\n",
       "      <th>builtfar</th>\n",
       "      <th>residfar</th>\n",
       "      <th>commfar</th>\n",
       "      <th>facilfar</th>\n",
       "      <th>Build Age</th>\n",
       "      <th>Alter Age</th>\n",
       "      <th>Create Month</th>\n",
       "      <th>HEAT/HOT WATER</th>\n",
       "      <th>Pred Complaint</th>\n",
       "      <th>Prob_0</th>\n",
       "      <th>Prob_1</th>\n",
       "    </tr>\n",
       "  </thead>\n",
       "  <tbody>\n",
       "    <tr>\n",
       "      <td>0</td>\n",
       "      <td>NaN</td>\n",
       "      <td>NaN</td>\n",
       "      <td>NaN</td>\n",
       "      <td>NaN</td>\n",
       "      <td>NaN</td>\n",
       "      <td>NaN</td>\n",
       "      <td>NaN</td>\n",
       "      <td>NaN</td>\n",
       "      <td>NaN</td>\n",
       "      <td>NaN</td>\n",
       "      <td>NaN</td>\n",
       "      <td>NaN</td>\n",
       "      <td>NaN</td>\n",
       "      <td>NaN</td>\n",
       "      <td>NaN</td>\n",
       "      <td>NaN</td>\n",
       "      <td>0.0</td>\n",
       "      <td>0.944163</td>\n",
       "      <td>0.055837</td>\n",
       "    </tr>\n",
       "    <tr>\n",
       "      <td>1</td>\n",
       "      <td>11020.0</td>\n",
       "      <td>52880.0</td>\n",
       "      <td>0.0</td>\n",
       "      <td>0.0</td>\n",
       "      <td>1.0</td>\n",
       "      <td>6.0</td>\n",
       "      <td>107.67</td>\n",
       "      <td>88.0</td>\n",
       "      <td>4.80</td>\n",
       "      <td>3.44</td>\n",
       "      <td>0.0</td>\n",
       "      <td>4.8</td>\n",
       "      <td>91.0</td>\n",
       "      <td>2019.0</td>\n",
       "      <td>6.0</td>\n",
       "      <td>0.0</td>\n",
       "      <td>0.0</td>\n",
       "      <td>0.944183</td>\n",
       "      <td>0.055817</td>\n",
       "    </tr>\n",
       "    <tr>\n",
       "      <td>2</td>\n",
       "      <td>11020.0</td>\n",
       "      <td>52880.0</td>\n",
       "      <td>0.0</td>\n",
       "      <td>0.0</td>\n",
       "      <td>1.0</td>\n",
       "      <td>6.0</td>\n",
       "      <td>107.67</td>\n",
       "      <td>88.0</td>\n",
       "      <td>4.80</td>\n",
       "      <td>3.44</td>\n",
       "      <td>0.0</td>\n",
       "      <td>4.8</td>\n",
       "      <td>91.0</td>\n",
       "      <td>2019.0</td>\n",
       "      <td>6.0</td>\n",
       "      <td>0.0</td>\n",
       "      <td>0.0</td>\n",
       "      <td>0.943261</td>\n",
       "      <td>0.056739</td>\n",
       "    </tr>\n",
       "    <tr>\n",
       "      <td>3</td>\n",
       "      <td>NaN</td>\n",
       "      <td>NaN</td>\n",
       "      <td>NaN</td>\n",
       "      <td>NaN</td>\n",
       "      <td>NaN</td>\n",
       "      <td>NaN</td>\n",
       "      <td>NaN</td>\n",
       "      <td>NaN</td>\n",
       "      <td>NaN</td>\n",
       "      <td>NaN</td>\n",
       "      <td>NaN</td>\n",
       "      <td>NaN</td>\n",
       "      <td>NaN</td>\n",
       "      <td>NaN</td>\n",
       "      <td>NaN</td>\n",
       "      <td>NaN</td>\n",
       "      <td>0.0</td>\n",
       "      <td>0.913889</td>\n",
       "      <td>0.086111</td>\n",
       "    </tr>\n",
       "    <tr>\n",
       "      <td>4</td>\n",
       "      <td>11020.0</td>\n",
       "      <td>52880.0</td>\n",
       "      <td>0.0</td>\n",
       "      <td>0.0</td>\n",
       "      <td>1.0</td>\n",
       "      <td>6.0</td>\n",
       "      <td>107.67</td>\n",
       "      <td>88.0</td>\n",
       "      <td>4.80</td>\n",
       "      <td>3.44</td>\n",
       "      <td>0.0</td>\n",
       "      <td>4.8</td>\n",
       "      <td>91.0</td>\n",
       "      <td>2019.0</td>\n",
       "      <td>8.0</td>\n",
       "      <td>0.0</td>\n",
       "      <td>0.0</td>\n",
       "      <td>0.682271</td>\n",
       "      <td>0.317729</td>\n",
       "    </tr>\n",
       "    <tr>\n",
       "      <td>...</td>\n",
       "      <td>...</td>\n",
       "      <td>...</td>\n",
       "      <td>...</td>\n",
       "      <td>...</td>\n",
       "      <td>...</td>\n",
       "      <td>...</td>\n",
       "      <td>...</td>\n",
       "      <td>...</td>\n",
       "      <td>...</td>\n",
       "      <td>...</td>\n",
       "      <td>...</td>\n",
       "      <td>...</td>\n",
       "      <td>...</td>\n",
       "      <td>...</td>\n",
       "      <td>...</td>\n",
       "      <td>...</td>\n",
       "      <td>...</td>\n",
       "      <td>...</td>\n",
       "      <td>...</td>\n",
       "    </tr>\n",
       "    <tr>\n",
       "      <td>1220565</td>\n",
       "      <td>4350.0</td>\n",
       "      <td>20057.0</td>\n",
       "      <td>0.0</td>\n",
       "      <td>0.0</td>\n",
       "      <td>1.0</td>\n",
       "      <td>6.0</td>\n",
       "      <td>50.00</td>\n",
       "      <td>50.0</td>\n",
       "      <td>4.61</td>\n",
       "      <td>3.44</td>\n",
       "      <td>0.0</td>\n",
       "      <td>4.8</td>\n",
       "      <td>97.0</td>\n",
       "      <td>2019.0</td>\n",
       "      <td>12.0</td>\n",
       "      <td>0.0</td>\n",
       "      <td>NaN</td>\n",
       "      <td>NaN</td>\n",
       "      <td>NaN</td>\n",
       "    </tr>\n",
       "    <tr>\n",
       "      <td>1220566</td>\n",
       "      <td>4350.0</td>\n",
       "      <td>20057.0</td>\n",
       "      <td>0.0</td>\n",
       "      <td>0.0</td>\n",
       "      <td>1.0</td>\n",
       "      <td>6.0</td>\n",
       "      <td>50.00</td>\n",
       "      <td>50.0</td>\n",
       "      <td>4.61</td>\n",
       "      <td>3.44</td>\n",
       "      <td>0.0</td>\n",
       "      <td>4.8</td>\n",
       "      <td>97.0</td>\n",
       "      <td>2019.0</td>\n",
       "      <td>12.0</td>\n",
       "      <td>0.0</td>\n",
       "      <td>NaN</td>\n",
       "      <td>NaN</td>\n",
       "      <td>NaN</td>\n",
       "    </tr>\n",
       "    <tr>\n",
       "      <td>1220571</td>\n",
       "      <td>4350.0</td>\n",
       "      <td>20057.0</td>\n",
       "      <td>0.0</td>\n",
       "      <td>0.0</td>\n",
       "      <td>1.0</td>\n",
       "      <td>6.0</td>\n",
       "      <td>50.00</td>\n",
       "      <td>50.0</td>\n",
       "      <td>4.61</td>\n",
       "      <td>3.44</td>\n",
       "      <td>0.0</td>\n",
       "      <td>4.8</td>\n",
       "      <td>97.0</td>\n",
       "      <td>2019.0</td>\n",
       "      <td>1.0</td>\n",
       "      <td>0.0</td>\n",
       "      <td>NaN</td>\n",
       "      <td>NaN</td>\n",
       "      <td>NaN</td>\n",
       "    </tr>\n",
       "    <tr>\n",
       "      <td>1220575</td>\n",
       "      <td>4350.0</td>\n",
       "      <td>20057.0</td>\n",
       "      <td>0.0</td>\n",
       "      <td>0.0</td>\n",
       "      <td>1.0</td>\n",
       "      <td>6.0</td>\n",
       "      <td>50.00</td>\n",
       "      <td>50.0</td>\n",
       "      <td>4.61</td>\n",
       "      <td>3.44</td>\n",
       "      <td>0.0</td>\n",
       "      <td>4.8</td>\n",
       "      <td>97.0</td>\n",
       "      <td>2019.0</td>\n",
       "      <td>1.0</td>\n",
       "      <td>0.0</td>\n",
       "      <td>NaN</td>\n",
       "      <td>NaN</td>\n",
       "      <td>NaN</td>\n",
       "    </tr>\n",
       "    <tr>\n",
       "      <td>1220578</td>\n",
       "      <td>4350.0</td>\n",
       "      <td>20057.0</td>\n",
       "      <td>0.0</td>\n",
       "      <td>0.0</td>\n",
       "      <td>1.0</td>\n",
       "      <td>6.0</td>\n",
       "      <td>50.00</td>\n",
       "      <td>50.0</td>\n",
       "      <td>4.61</td>\n",
       "      <td>3.44</td>\n",
       "      <td>0.0</td>\n",
       "      <td>4.8</td>\n",
       "      <td>97.0</td>\n",
       "      <td>2019.0</td>\n",
       "      <td>1.0</td>\n",
       "      <td>0.0</td>\n",
       "      <td>NaN</td>\n",
       "      <td>NaN</td>\n",
       "      <td>NaN</td>\n",
       "    </tr>\n",
       "  </tbody>\n",
       "</table>\n",
       "<p>622689 rows × 19 columns</p>\n",
       "</div>"
      ],
      "text/plain": [
       "         lotarea  resarea  officearea  retailarea  numbldgs  numfloors  \\\n",
       "0            NaN      NaN         NaN         NaN       NaN        NaN   \n",
       "1        11020.0  52880.0         0.0         0.0       1.0        6.0   \n",
       "2        11020.0  52880.0         0.0         0.0       1.0        6.0   \n",
       "3            NaN      NaN         NaN         NaN       NaN        NaN   \n",
       "4        11020.0  52880.0         0.0         0.0       1.0        6.0   \n",
       "...          ...      ...         ...         ...       ...        ...   \n",
       "1220565   4350.0  20057.0         0.0         0.0       1.0        6.0   \n",
       "1220566   4350.0  20057.0         0.0         0.0       1.0        6.0   \n",
       "1220571   4350.0  20057.0         0.0         0.0       1.0        6.0   \n",
       "1220575   4350.0  20057.0         0.0         0.0       1.0        6.0   \n",
       "1220578   4350.0  20057.0         0.0         0.0       1.0        6.0   \n",
       "\n",
       "         lotdepth  bldgdepth  builtfar  residfar  commfar  facilfar  \\\n",
       "0             NaN        NaN       NaN       NaN      NaN       NaN   \n",
       "1          107.67       88.0      4.80      3.44      0.0       4.8   \n",
       "2          107.67       88.0      4.80      3.44      0.0       4.8   \n",
       "3             NaN        NaN       NaN       NaN      NaN       NaN   \n",
       "4          107.67       88.0      4.80      3.44      0.0       4.8   \n",
       "...           ...        ...       ...       ...      ...       ...   \n",
       "1220565     50.00       50.0      4.61      3.44      0.0       4.8   \n",
       "1220566     50.00       50.0      4.61      3.44      0.0       4.8   \n",
       "1220571     50.00       50.0      4.61      3.44      0.0       4.8   \n",
       "1220575     50.00       50.0      4.61      3.44      0.0       4.8   \n",
       "1220578     50.00       50.0      4.61      3.44      0.0       4.8   \n",
       "\n",
       "         Build Age  Alter Age  Create Month  HEAT/HOT WATER  Pred Complaint  \\\n",
       "0              NaN        NaN           NaN             NaN             0.0   \n",
       "1             91.0     2019.0           6.0             0.0             0.0   \n",
       "2             91.0     2019.0           6.0             0.0             0.0   \n",
       "3              NaN        NaN           NaN             NaN             0.0   \n",
       "4             91.0     2019.0           8.0             0.0             0.0   \n",
       "...            ...        ...           ...             ...             ...   \n",
       "1220565       97.0     2019.0          12.0             0.0             NaN   \n",
       "1220566       97.0     2019.0          12.0             0.0             NaN   \n",
       "1220571       97.0     2019.0           1.0             0.0             NaN   \n",
       "1220575       97.0     2019.0           1.0             0.0             NaN   \n",
       "1220578       97.0     2019.0           1.0             0.0             NaN   \n",
       "\n",
       "           Prob_0    Prob_1  \n",
       "0        0.944163  0.055837  \n",
       "1        0.944183  0.055817  \n",
       "2        0.943261  0.056739  \n",
       "3        0.913889  0.086111  \n",
       "4        0.682271  0.317729  \n",
       "...           ...       ...  \n",
       "1220565       NaN       NaN  \n",
       "1220566       NaN       NaN  \n",
       "1220571       NaN       NaN  \n",
       "1220575       NaN       NaN  \n",
       "1220578       NaN       NaN  \n",
       "\n",
       "[622689 rows x 19 columns]"
      ]
     },
     "execution_count": 60,
     "metadata": {},
     "output_type": "execute_result"
    }
   ],
   "source": [
    "# Create a single dataframe with the test data and the predictions concatenated\n",
    "rf_scored_data = pd.concat([x_test, y_test, pred_rf, pred_prob_rf], axis=1)\n",
    "rf_scored_data\n"
   ]
  },
  {
   "cell_type": "markdown",
   "metadata": {},
   "source": [
    "<font color=blue>\n",
    "Modelling the complaint data using a <b>Random Forest</b> has improved over the original Logistic Regression, it is still far from a great model. Unlike the Logistic Regression model, we can now successfully identify about 50% of the complaints which are likely to be related to \"Heat / Hot Water\", which is a substantial improvement <br><br>\n",
    "It can be seen from the model interpretability that the most important field in determining whether the complaint is likely to be related to \"Heat / Hot Water\" is the month that the complaint is raised. More complaints in Winter months than summer!\n",
    "</font>    "
   ]
  },
  {
   "cell_type": "markdown",
   "metadata": {},
   "source": [
    "### Step 4: Build a Forecasting Model to Predict the Complaint Volumes"
   ]
  },
  {
   "cell_type": "markdown",
   "metadata": {},
   "source": [
    "#### Step 4.1: Import Libraries required for Modelling"
   ]
  },
  {
   "cell_type": "code",
   "execution_count": 61,
   "metadata": {},
   "outputs": [],
   "source": [
    "from statsmodels.graphics.tsaplots import plot_acf\n",
    "from statsmodels.graphics.tsaplots import plot_pacf\n",
    "from statsmodels.graphics.api import qqplot\n",
    "import statsmodels.tsa.api as tsa\n",
    "import statsmodels.api as sm\n",
    "from scipy import stats"
   ]
  },
  {
   "cell_type": "markdown",
   "metadata": {},
   "source": [
    "#### Step 4.2: Create the dataframe to be used in the Time Series forecasting\n",
    "\n",
    "For this data set we will revert back to using the Heating/Hot Water data just for the Bronx"
   ]
  },
  {
   "cell_type": "code",
   "execution_count": 62,
   "metadata": {},
   "outputs": [],
   "source": [
    "# We have a dataframe with all complaints for the Bronx, so we will fiter that and select Heat/Hot Water\n",
    "hhw_bronx_df = all_bronx_df.loc[all_bronx_df['Complaint Type'].isin(['HEAT/HOT WATER']),['Unique Key','Created Date','Complaint Type','Incident Zip','Incident Address','Street Name','Borough']]   \n",
    "\n",
    "# As there are days with missing values - aggregate to the monthly level and set the day as the 1st of month\n",
    "hhw_bronx_df['Create Year'] = pd.DatetimeIndex(hhw_bronx_df['Created Date']).year\n",
    "hhw_bronx_df['Create Month'] = pd.DatetimeIndex(hhw_bronx_df['Created Date']).month\n",
    "hhw_bronx_df['Create Day'] = int(1)\n",
    "hhw_bronx_df['Complaint Date'] = hhw_bronx_df.apply(lambda row: datetime(row['Create Year'], row['Create Month'], row['Create Day']), axis=1)\n"
   ]
  },
  {
   "cell_type": "code",
   "execution_count": 63,
   "metadata": {},
   "outputs": [
    {
     "name": "stdout",
     "output_type": "stream",
     "text": [
      "69\n",
      "Complaint Date\n",
      "2014-03-01    5177\n",
      "2014-04-01    4584\n",
      "2014-05-01    1313\n",
      "2014-06-01     941\n",
      "2014-07-01     741\n",
      "              ... \n",
      "2019-07-01     794\n",
      "2019-08-01     599\n",
      "2019-09-01     728\n",
      "2019-10-01    3992\n",
      "2019-11-01    4397\n",
      "Name: Complaint Type, Length: 69, dtype: int64\n"
     ]
    }
   ],
   "source": [
    "periods = hhw_bronx_df.groupby('Complaint Date')['Complaint Type'].count()\n",
    "print(periods.size)\n",
    "print(periods)"
   ]
  },
  {
   "cell_type": "markdown",
   "metadata": {},
   "source": [
    "<font color=blue>\n",
    "There are 69 time periods in the forecasting dataframe, which on monthly data almost 6 years and 9 months of data. With many time series procedures, 3 full time cycles are required in order to estimate seasonality, so this should be fine\n",
    "</font>   "
   ]
  },
  {
   "cell_type": "code",
   "execution_count": 64,
   "metadata": {},
   "outputs": [],
   "source": [
    "calls = pd.DataFrame({'ds':periods.index, 'y':periods.values})\n",
    "calls.set_index(['ds'], inplace=True)\n",
    "calls.y = calls.y.astype('float64')"
   ]
  },
  {
   "cell_type": "markdown",
   "metadata": {},
   "source": [
    "#### Step 4.3: Explore the data\n"
   ]
  },
  {
   "cell_type": "code",
   "execution_count": 65,
   "metadata": {},
   "outputs": [
    {
     "data": {
      "text/plain": [
       "Text(0.5, 1.0, 'Heat / Hot Water complaints over time')"
      ]
     },
     "execution_count": 65,
     "metadata": {},
     "output_type": "execute_result"
    },
    {
     "data": {
      "image/png": "[encoded data removed]",
      "text/plain": [
       "<Figure size 1008x432 with 1 Axes>"
      ]
     },
     "metadata": {},
     "output_type": "display_data"
    }
   ],
   "source": [
    "calls.plot(figsize=(14, 6))\n",
    "mpl.pyplot.title(\"Heat / Hot Water complaints over time\")\n"
   ]
  },
  {
   "cell_type": "code",
   "execution_count": 66,
   "metadata": {},
   "outputs": [
    {
     "data": {
      "image/png": "[encoded data removed]",
      "text/plain": [
       "<Figure size 1008x432 with 1 Axes>"
      ]
     },
     "metadata": {},
     "output_type": "display_data"
    },
    {
     "data": {
      "image/png": "[encoded data removed]",
      "text/plain": [
       "<Figure size 1008x432 with 1 Axes>"
      ]
     },
     "metadata": {},
     "output_type": "display_data"
    }
   ],
   "source": [
    "\n",
    "fig, ax = plt.subplots(figsize=(14, 6))\n",
    "plot_acf(calls.y, lags=24, ax=ax)\n",
    "plt.show()\n",
    "\n",
    "fig, ax = plt.subplots(figsize=(14, 6))\n",
    "plot_pacf(calls.y, lags=24, ax=ax)\n",
    "plt.show()"
   ]
  },
  {
   "cell_type": "markdown",
   "metadata": {},
   "source": [
    "<font color=blue>\n",
    "The time series shows heavy seasonality, with significant periodicity at lags 1, 12 and 24, and other lags at 4 and 15\n",
    "</font>   "
   ]
  },
  {
   "cell_type": "markdown",
   "metadata": {},
   "source": [
    "#### Step 4.3: Build the ARIMA model\n"
   ]
  },
  {
   "cell_type": "code",
   "execution_count": 67,
   "metadata": {},
   "outputs": [
    {
     "name": "stderr",
     "output_type": "stream",
     "text": [
      "C:\\Users\\STEPHENGroves\\Anaconda3\\lib\\site-packages\\statsmodels\\tsa\\base\\tsa_model.py:165: ValueWarning: No frequency information was provided, so inferred frequency MS will be used.\n",
      "  % freq, ValueWarning)\n"
     ]
    },
    {
     "data": {
      "text/plain": [
       "<matplotlib.axes._subplots.AxesSubplot at 0x1ca34d1fc08>"
      ]
     },
     "execution_count": 67,
     "metadata": {},
     "output_type": "execute_result"
    },
    {
     "data": {
      "image/png": "[encoded data removed]",
      "text/plain": [
       "<Figure size 1008x432 with 1 Axes>"
      ]
     },
     "metadata": {},
     "output_type": "display_data"
    }
   ],
   "source": [
    "# The above plots show seasonality and auto-regression, but looks stationary, therefore we will try an ARMA(1,1)\n",
    "arima_100 = tsa.ARIMA(calls.y, (12, 0, 1)).fit()\n",
    "\n",
    "fig, ax = plt.subplots(figsize=(14, 6))\n",
    "arima_100.resid.plot(ax=ax)"
   ]
  },
  {
   "cell_type": "code",
   "execution_count": 68,
   "metadata": {},
   "outputs": [
    {
     "data": {
      "text/plain": [
       "<matplotlib.legend.Legend at 0x1ca346b2448>"
      ]
     },
     "execution_count": 68,
     "metadata": {},
     "output_type": "execute_result"
    },
    {
     "data": {
      "image/png": "[encoded data removed]",
      "text/plain": [
       "<Figure size 1008x432 with 1 Axes>"
      ]
     },
     "metadata": {},
     "output_type": "display_data"
    }
   ],
   "source": [
    "call_forecast = pd.DataFrame(arima_100.predict('2019-01-01','2020-12-01',dynamic = True))\n",
    "\n",
    "\n",
    "fig, ax = plt.subplots(figsize=(14, 6))\n",
    "plot = calls.loc['2015':].plot(ax=ax)\n",
    "plot = call_forecast.plot(ax=plot, style='r--', label='Prediction')\n",
    "plot.legend()"
   ]
  },
  {
   "cell_type": "code",
   "execution_count": 69,
   "metadata": {},
   "outputs": [],
   "source": [
    "call_forecast.reset_index(inplace=True)\n",
    "call_forecast.rename(columns={'index':'Period',0:'Forecast'}, inplace=True)"
   ]
  },
  {
   "cell_type": "code",
   "execution_count": 70,
   "metadata": {},
   "outputs": [
    {
     "name": "stdout",
     "output_type": "stream",
     "text": [
      "--------------------------------\n",
      "12 months Forecast - HHW (Bronx)\n",
      "--------------------------------\n",
      "       Period      Forecast\n",
      "12 2020-01-01  12771.728663\n",
      "13 2020-02-01  11319.969366\n",
      "14 2020-03-01   8462.554799\n",
      "15 2020-04-01   5580.928830\n",
      "16 2020-05-01   2809.262612\n",
      "17 2020-06-01    752.240770\n",
      "18 2020-07-01    -16.715165\n",
      "19 2020-08-01    697.525456\n",
      "20 2020-09-01   2419.888119\n",
      "21 2020-10-01   5655.359726\n",
      "22 2020-11-01   9003.027582\n",
      "23 2020-12-01  11227.398722\n"
     ]
    }
   ],
   "source": [
    "mask = (call_forecast['Period'] >= '2020-01-01')\n",
    "\n",
    "print('--------------------------------')\n",
    "print('12 months Forecast - HHW (Bronx)')\n",
    "print('--------------------------------')\n",
    "print(call_forecast.loc[mask])"
   ]
  },
  {
   "cell_type": "markdown",
   "metadata": {},
   "source": [
    "## Conclusion:"
   ]
  },
  {
   "cell_type": "markdown",
   "metadata": {},
   "source": [
    "<font color=blue>\n",
    "<b><u>Classification Model:</u></b><br>\n",
    " - Logistic regression was a very poor classifier of Heat / Hot Water Complaints as it could not detect Heat / Hot Water events<br>\n",
    " - Random Forecast was a much better classifier of Heat / Hot Water Complaints as it detected around 50% of events.<br><br>\n",
    "<b><u>Forecasting Model:</u></b><br>\n",
    " - The complaint data around Heating & Hot Water was highly seasonal, as you may imagine<br>\n",
    " - A seasonal ARIMA model was built which provide good forecasts for the Heat /  Hot Water events in Bronx<br>\n",
    " - Forecasts have been created for the next 12 months allowing the Borough to plan accordingly for these types of complaints<br>\n",
    "    \n",
    "\n",
    "</font>"
   ]
  }
 ],
 "metadata": {
  "kernelspec": {
   "display_name": "Python 3",
   "language": "python",
   "name": "python3"
  },
  "language_info": {
   "codemirror_mode": {
    "name": "ipython",
    "version": 3
   },
   "file_extension": ".py",
   "mimetype": "text/x-python",
   "name": "python",
   "nbconvert_exporter": "python",
   "pygments_lexer": "ipython3",
   "version": "3.7.4"
  }
 },
 "nbformat": 4,
 "nbformat_minor": 2
}
