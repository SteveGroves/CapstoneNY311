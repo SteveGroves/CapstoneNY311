{
 "cells": [
  {
   "cell_type": "markdown",
   "metadata": {},
   "source": [
    "# Steve Groves: Capstone Project\n",
    "\n",
    "## Notebook 1: What is the Top Complaint Type?\n"
   ]
  },
  {
   "cell_type": "markdown",
   "metadata": {},
   "source": [
    "### Step 1: Read the Service Request Data in to a Pandas Dataframe"
   ]
  },
  {
   "cell_type": "code",
   "execution_count": 57,
   "metadata": {},
   "outputs": [
    {
     "data": {
      "text/html": [
       "<div>\n",
       "<style scoped>\n",
       "    .dataframe tbody tr th:only-of-type {\n",
       "        vertical-align: middle;\n",
       "    }\n",
       "\n",
       "    .dataframe tbody tr th {\n",
       "        vertical-align: top;\n",
       "    }\n",
       "\n",
       "    .dataframe thead th {\n",
       "        text-align: right;\n",
       "    }\n",
       "</style>\n",
       "<table border=\"1\" class=\"dataframe\">\n",
       "  <thead>\n",
       "    <tr style=\"text-align: right;\">\n",
       "      <th></th>\n",
       "      <th>Unique Key</th>\n",
       "      <th>Created Date</th>\n",
       "      <th>Closed Date</th>\n",
       "      <th>Complaint Type</th>\n",
       "      <th>Descriptor</th>\n",
       "      <th>Location Type</th>\n",
       "      <th>Incident Zip</th>\n",
       "      <th>Incident Address</th>\n",
       "      <th>Street Name</th>\n",
       "      <th>Address Type</th>\n",
       "      <th>City</th>\n",
       "      <th>Status</th>\n",
       "      <th>Resolution Description</th>\n",
       "      <th>Borough</th>\n",
       "      <th>Latitude</th>\n",
       "      <th>Longitude</th>\n",
       "    </tr>\n",
       "  </thead>\n",
       "  <tbody>\n",
       "    <tr>\n",
       "      <td>0</td>\n",
       "      <td>15716674</td>\n",
       "      <td>2010-01-12</td>\n",
       "      <td>2010-02-08</td>\n",
       "      <td>PLUMBING</td>\n",
       "      <td>RADIATOR</td>\n",
       "      <td>RESIDENTIAL BUILDING</td>\n",
       "      <td>11230.0</td>\n",
       "      <td>1001 AVENUE H</td>\n",
       "      <td>AVENUE H</td>\n",
       "      <td>ADDRESS</td>\n",
       "      <td>BROOKLYN</td>\n",
       "      <td>Closed</td>\n",
       "      <td>The Department of Housing Preservation and Dev...</td>\n",
       "      <td>Unspecified</td>\n",
       "      <td>40.629459</td>\n",
       "      <td>-73.966928</td>\n",
       "    </tr>\n",
       "    <tr>\n",
       "      <td>1</td>\n",
       "      <td>15716675</td>\n",
       "      <td>2010-01-12</td>\n",
       "      <td>2010-01-15</td>\n",
       "      <td>HEATING</td>\n",
       "      <td>HEAT</td>\n",
       "      <td>RESIDENTIAL BUILDING</td>\n",
       "      <td>10456.0</td>\n",
       "      <td>1400 MORRIS AVENUE</td>\n",
       "      <td>MORRIS AVENUE</td>\n",
       "      <td>ADDRESS</td>\n",
       "      <td>BRONX</td>\n",
       "      <td>Closed</td>\n",
       "      <td>More than one complaint was received for this ...</td>\n",
       "      <td>Unspecified</td>\n",
       "      <td>40.838031</td>\n",
       "      <td>-73.911282</td>\n",
       "    </tr>\n",
       "  </tbody>\n",
       "</table>\n",
       "</div>"
      ],
      "text/plain": [
       "   Unique Key Created Date Closed Date Complaint Type Descriptor  \\\n",
       "0    15716674   2010-01-12  2010-02-08       PLUMBING   RADIATOR   \n",
       "1    15716675   2010-01-12  2010-01-15        HEATING       HEAT   \n",
       "\n",
       "          Location Type  Incident Zip    Incident Address    Street Name  \\\n",
       "0  RESIDENTIAL BUILDING       11230.0       1001 AVENUE H       AVENUE H   \n",
       "1  RESIDENTIAL BUILDING       10456.0  1400 MORRIS AVENUE  MORRIS AVENUE   \n",
       "\n",
       "  Address Type      City  Status  \\\n",
       "0      ADDRESS  BROOKLYN  Closed   \n",
       "1      ADDRESS     BRONX  Closed   \n",
       "\n",
       "                              Resolution Description      Borough   Latitude  \\\n",
       "0  The Department of Housing Preservation and Dev...  Unspecified  40.629459   \n",
       "1  More than one complaint was received for this ...  Unspecified  40.838031   \n",
       "\n",
       "   Longitude  \n",
       "0 -73.966928  \n",
       "1 -73.911282  "
      ]
     },
     "execution_count": 57,
     "metadata": {},
     "output_type": "execute_result"
    }
   ],
   "source": [
    "# Import pandas library\n",
    "import pandas as pd\n",
    "import numpy as np\n",
    "from datetime import datetime\n",
    "import seaborn as sns\n",
    "import matplotlib.pyplot as plt\n",
    "sns.set(style=\"whitegrid\")\n",
    "\n",
    "# Get the start time of the data load process\n",
    "load_start = datetime.nowfinish\n",
    "print(\"Data Load - end Time: \", load_start)\n",
    "\n",
    "# Specify file directory properties\n",
    "Path = \"C:\\\\Users\\STEPHENGroves\\\\Box Sync\\\\SteveG - Laptop Sync\\\\Work Stuff\\\\Training\\\\PyR\\\\Capstone Project\\\\Data\\\\\"\n",
    "# Filename = \"311_Service_Requests_from_2010_to_Present - HDP Only_1000.csv\"    # Sample test file for notebook creation\n",
    "Filename = \"311_Service_Requests_from_2010_to_Present - HDP Only.csv\"\n",
    "\n",
    "Infile = open(Path + Filename)\n",
    "\n",
    "# Read the csv file to a pandas dataframe and parse the two date fields so that they are typed as dates and not string\n",
    "cap_df = pd.read_csv(Infile,parse_dates=['Created Date','Closed Date'])\n",
    "\n",
    "# Get the finish time of the data load process\n",
    "load_end = datetime.now())\n",
    "print(\"Data Load - Finish Time: \", load_end)\n",
    "\n",
    "# Close the referenced file and view the first two records of the dataframe\n",
    "Infile.close()\n",
    "cap_df.head(2)\n",
    "\n"
   ]
  },
  {
   "cell_type": "markdown",
   "metadata": {},
   "source": [
    "### Step 2: Explore the basic shape and format of the data\n",
    "\n",
    "The previous cell showed that the data has been read in to the pandas dataframe and looks correct, but we need to understand the size of the data set as well as the types of each of the fields (especially in relation to the date/time fields and whether they have been parsed as datefime fields"
   ]
  },
  {
   "cell_type": "code",
   "execution_count": 63,
   "metadata": {},
   "outputs": [
    {
     "name": "stdout",
     "output_type": "stream",
     "text": [
      "Number of complaints is: 5909958\n",
      "Number of features is:   18\n",
      "\n",
      "---------------------------\n",
      "Data Types are:\n"
     ]
    },
    {
     "data": {
      "text/plain": [
       "Unique Key                         int64\n",
       "Created Date              datetime64[ns]\n",
       "Closed Date               datetime64[ns]\n",
       "Complaint Type                    object\n",
       "Descriptor                        object\n",
       "Location Type                     object\n",
       "Incident Zip                     float64\n",
       "Incident Address                  object\n",
       "Street Name                       object\n",
       "Address Type                      object\n",
       "City                              object\n",
       "Status                            object\n",
       "Resolution Description            object\n",
       "Borough                           object\n",
       "Latitude                         float64\n",
       "Longitude                        float64\n",
       "Created Year                       int64\n",
       "Created Month                      int64\n",
       "dtype: object"
      ]
     },
     "execution_count": 63,
     "metadata": {},
     "output_type": "execute_result"
    }
   ],
   "source": [
    "# Obtain the year and month of the complaint ready for later use\n",
    "cap_df['Created Year'] = pd.DatetimeIndex(cap_df['Created Date']).year\n",
    "cap_df['Created Month'] = pd.DatetimeIndex(cap_df['Created Date']).month\n",
    "\n",
    "print('Number of complaints is: ' + str(cap_df.shape[0]))\n",
    "print('Number of features is:   ' + str(cap_df.shape[1]))\n",
    "print('\\n---------------------------')\n",
    "print('Data Types are:')\n",
    "cap_df.dtypes"
   ]
  },
  {
   "cell_type": "markdown",
   "metadata": {},
   "source": [
    "<font color=blue>There are 18 columns of data and 590995 (approx 6 million) complaint records. <br/>\n",
    "Apart from the two date/time fields, along with the Unique Key, Zip code and Lat/Long locations, all other fields in the data set are of type object (string).</font>\n",
    "\n"
   ]
  },
  {
   "cell_type": "markdown",
   "metadata": {},
   "source": [
    "### Step 3: Analysing Complaint Types\n",
    "\n",
    "#### Step 3.1: Which is the most common Complaint Type?"
   ]
  },
  {
   "cell_type": "code",
   "execution_count": 69,
   "metadata": {},
   "outputs": [
    {
     "data": {
      "text/plain": [
       "HEAT/HOT WATER            1182468\n",
       "HEATING                    887869\n",
       "PLUMBING                   706170\n",
       "GENERAL CONSTRUCTION       500863\n",
       "UNSANITARY CONDITION       443913\n",
       "PAINT - PLASTER            361258\n",
       "PAINT/PLASTER              343352\n",
       "ELECTRIC                   305095\n",
       "NONCONST                   260890\n",
       "DOOR/WINDOW                202263\n",
       "WATER LEAK                 190463\n",
       "GENERAL                    148574\n",
       "FLOORING/STAIRS            136256\n",
       "APPLIANCE                  111097\n",
       "HPD Literature Request      52830\n",
       "SAFETY                      50725\n",
       "OUTSIDE BUILDING             7079\n",
       "ELEVATOR                     6573\n",
       "Unsanitary Condition         5499\n",
       "CONSTRUCTION                 5078\n",
       "General                      1163\n",
       "Safety                        424\n",
       "STRUCTURAL                     16\n",
       "Plumbing                       11\n",
       "AGENCY                          9\n",
       "VACANT APARTMENT                8\n",
       "Outside Building                6\n",
       "Appliance                       4\n",
       "Electric                        1\n",
       "Mold                            1\n",
       "Name: Complaint Type, dtype: int64"
      ]
     },
     "execution_count": 69,
     "metadata": {},
     "output_type": "execute_result"
    }
   ],
   "source": [
    "# Create an aggregation of complaints by type to give a frequency count of complaint types\n",
    "series = cap_df['Complaint Type'].value_counts()\n",
    "series.head(35)"
   ]
  },
  {
   "cell_type": "markdown",
   "metadata": {},
   "source": [
    "<font color=blue>There are lots of complaint types with small numbers of complaints, so let's group some of these smaller categories in to an \"Other\" category so that visualisations are easier to understand.</font>"
   ]
  },
  {
   "cell_type": "code",
   "execution_count": 90,
   "metadata": {},
   "outputs": [
    {
     "data": {
      "text/plain": [
       "HEAT/HOT WATER          1182468\n",
       "HEATING                  887869\n",
       "PLUMBING                 706170\n",
       "Other                    525354\n",
       "GENERAL CONSTRUCTION     500863\n",
       "UNSANITARY CONDITION     443913\n",
       "PAINT - PLASTER          361258\n",
       "PAINT/PLASTER            343352\n",
       "ELECTRIC                 305095\n",
       "NONCONST                 260890\n",
       "DOOR/WINDOW              202263\n",
       "WATER LEAK               190463\n",
       "Name: Complaint Type top, dtype: int64"
      ]
     },
     "execution_count": 90,
     "metadata": {},
     "output_type": "execute_result"
    }
   ],
   "source": [
    "# There are lots of complaint types with small numbers of complaints, so let's group these in to an \"Other\" category\n",
    "\n",
    "mask = (series/series.sum() * 100).lt(3)\n",
    "cap_df['Complaint Type top'] = np.where(cap_df['Complaint Type'].isin(series[mask].index),'Other',cap_df['Complaint Type'])\n",
    "series_top = cap_df['Complaint Type top'].value_counts()\n",
    "series_top.head(35)"
   ]
  },
  {
   "cell_type": "markdown",
   "metadata": {},
   "source": [
    "<font color=blue>A new data column has been created which keeps just the top 12 complaint types of which one of those twelve is the group \"Other\" containing all the remaining complaints.</font>"
   ]
  },
  {
   "cell_type": "code",
   "execution_count": 91,
   "metadata": {},
   "outputs": [
    {
     "data": {
      "image/png": "[encoded data removed]",
      "text/plain": [
       "<Figure size 432x288 with 1 Axes>"
      ]
     },
     "metadata": {},
     "output_type": "display_data"
    }
   ],
   "source": [
    "# Create a visualisation of the top 12 complaint types\n",
    "g1 = sns.countplot(data=cap_df, x='Complaint Type top',order = cap_df['Complaint Type top'].value_counts().index)\n",
    "plt.title('Top 12 Complaints by Type ')\n",
    "plt.ylabel('Count of Complaints')\n",
    "plt.ylim(0, 1300000)\n",
    "\n",
    "g1.set_xticklabels(g1.get_xticklabels(), rotation=30, ha=\"right\")\n",
    "\n",
    "#Add percentages to the graph\n",
    "total = float(len(cap_df)) #one person per row\n",
    "for p in g1.patches:\n",
    "    height = p.get_height()\n",
    "    g1.text(p.get_x()+p.get_width()/2.,\n",
    "            height + 1,\n",
    "            '{0:.0%}'.format(height/total),\n",
    "            ha=\"center\") \n",
    "\n",
    "plt.show()"
   ]
  },
  {
   "cell_type": "markdown",
   "metadata": {},
   "source": [
    "<font color=blue>As \"Heat/Hot Water\" seems to be the largest complaint type, let's investigage what heating and hot water issues issues people are having</font>\n"
   ]
  },
  {
   "cell_type": "markdown",
   "metadata": {},
   "source": [
    "#### Step 3.2: Which descriptors relate to heating and hot water issues?"
   ]
  },
  {
   "cell_type": "code",
   "execution_count": 92,
   "metadata": {},
   "outputs": [
    {
     "data": {
      "text/plain": [
       "HEAT                         871935\n",
       "ENTIRE BUILDING              771490\n",
       "APARTMENT ONLY               410978\n",
       "CEILING                      341558\n",
       "MOLD                         247377\n",
       "FLOOR                        232039\n",
       "PESTS                        219510\n",
       "VERMIN                       187360\n",
       "WATER-LEAKS                  169571\n",
       "WALLS                        168471\n",
       "WALL                         167339\n",
       "BASIN/SINK                   152262\n",
       "DOOR                          95516\n",
       "HEAVY FLOW                    90804\n",
       "WINDOWS                       89729\n",
       "DOORS                         77186\n",
       "SLOW LEAK                     75107\n",
       "WINDOW FRAME                  74606\n",
       "TOILET                        73329\n",
       "GARBAGE/RECYCLING STORAGE     72660\n",
       "Name: Descriptor, dtype: int64"
      ]
     },
     "execution_count": 92,
     "metadata": {},
     "output_type": "execute_result"
    }
   ],
   "source": [
    "# Obtain a list of all descriptors in the data set, regardless of whether they relating to heating and hot water\n",
    "top_descriptors = cap_df['Descriptor'].value_counts()\n",
    "top_descriptors.head(20)"
   ]
  },
  {
   "cell_type": "markdown",
   "metadata": {},
   "source": [
    "<font color=blue>Some of these descriptors clearly do not relate to heating issues so we will select just hte records relating to heading and look at the descriptors for those</font>\n"
   ]
  },
  {
   "cell_type": "code",
   "execution_count": 100,
   "metadata": {},
   "outputs": [
    {
     "data": {
      "text/html": [
       "<div>\n",
       "<style scoped>\n",
       "    .dataframe tbody tr th:only-of-type {\n",
       "        vertical-align: middle;\n",
       "    }\n",
       "\n",
       "    .dataframe tbody tr th {\n",
       "        vertical-align: top;\n",
       "    }\n",
       "\n",
       "    .dataframe thead th {\n",
       "        text-align: right;\n",
       "    }\n",
       "</style>\n",
       "<table border=\"1\" class=\"dataframe\">\n",
       "  <thead>\n",
       "    <tr style=\"text-align: right;\">\n",
       "      <th>Descriptor</th>\n",
       "      <th>APARTMENT ONLY</th>\n",
       "      <th>ENTIRE BUILDING</th>\n",
       "    </tr>\n",
       "    <tr>\n",
       "      <th>Complaint Type</th>\n",
       "      <th></th>\n",
       "      <th></th>\n",
       "    </tr>\n",
       "  </thead>\n",
       "  <tbody>\n",
       "    <tr>\n",
       "      <td>HEAT/HOT WATER</td>\n",
       "      <td>410978</td>\n",
       "      <td>771490</td>\n",
       "    </tr>\n",
       "  </tbody>\n",
       "</table>\n",
       "</div>"
      ],
      "text/plain": [
       "Descriptor      APARTMENT ONLY  ENTIRE BUILDING\n",
       "Complaint Type                                 \n",
       "HEAT/HOT WATER          410978           771490"
      ]
     },
     "execution_count": 100,
     "metadata": {},
     "output_type": "execute_result"
    }
   ],
   "source": [
    "# Create a new dataframe containing just records relating to heating issues\n",
    "heating_df = cap_df[cap_df['Complaint Type'].str.contains('HEAT/HOT WATER')]\n",
    "heating_df_2var = heating_df[['Complaint Type','Descriptor']]\n",
    "\n",
    "# Create a cross-tab (pivot table) of descriptors that relating to HEATING issues\n",
    "heating_df_2var.pivot_table(index='Complaint Type', columns='Descriptor', aggfunc=len).fillna(0).astype('int')"
   ]
  },
  {
   "cell_type": "markdown",
   "metadata": {},
   "source": [
    "<font color=blue>There are only two descriptors releating to HEAT / HOT WATER issues and we can see that almost 2/3 of the time they relete to the Entire Building and not an individual apartment</font>\n"
   ]
  },
  {
   "cell_type": "markdown",
   "metadata": {},
   "source": [
    "#### Step 3.3: Have heatings complaints become more common over the years?"
   ]
  },
  {
   "cell_type": "code",
   "execution_count": 101,
   "metadata": {},
   "outputs": [
    {
     "data": {
      "text/html": [
       "<div>\n",
       "<style scoped>\n",
       "    .dataframe tbody tr th:only-of-type {\n",
       "        vertical-align: middle;\n",
       "    }\n",
       "\n",
       "    .dataframe tbody tr th {\n",
       "        vertical-align: top;\n",
       "    }\n",
       "\n",
       "    .dataframe thead th {\n",
       "        text-align: right;\n",
       "    }\n",
       "</style>\n",
       "<table border=\"1\" class=\"dataframe\">\n",
       "  <thead>\n",
       "    <tr style=\"text-align: right;\">\n",
       "      <th></th>\n",
       "      <th>Unique Key</th>\n",
       "      <th>Created Date</th>\n",
       "      <th>Closed Date</th>\n",
       "      <th>Complaint Type</th>\n",
       "      <th>Descriptor</th>\n",
       "      <th>Location Type</th>\n",
       "      <th>Incident Zip</th>\n",
       "      <th>Incident Address</th>\n",
       "      <th>Street Name</th>\n",
       "      <th>Address Type</th>\n",
       "      <th>City</th>\n",
       "      <th>Status</th>\n",
       "      <th>Resolution Description</th>\n",
       "      <th>Borough</th>\n",
       "      <th>Latitude</th>\n",
       "      <th>Longitude</th>\n",
       "      <th>Created Year</th>\n",
       "      <th>Created Month</th>\n",
       "      <th>Complaint Type 10</th>\n",
       "      <th>Complaint Type top</th>\n",
       "    </tr>\n",
       "  </thead>\n",
       "  <tbody>\n",
       "    <tr>\n",
       "      <td>2594842</td>\n",
       "      <td>27611774</td>\n",
       "      <td>2014-03-11</td>\n",
       "      <td>2014-03-13</td>\n",
       "      <td>HEAT/HOT WATER</td>\n",
       "      <td>APARTMENT ONLY</td>\n",
       "      <td>RESIDENTIAL BUILDING</td>\n",
       "      <td>11216.0</td>\n",
       "      <td>551 NOSTRAND AVENUE</td>\n",
       "      <td>NOSTRAND AVENUE</td>\n",
       "      <td>ADDRESS</td>\n",
       "      <td>BROOKLYN</td>\n",
       "      <td>Closed</td>\n",
       "      <td>The Department of Housing Preservation and Dev...</td>\n",
       "      <td>BROOKLYN</td>\n",
       "      <td>40.678626</td>\n",
       "      <td>-73.949663</td>\n",
       "      <td>2014</td>\n",
       "      <td>3</td>\n",
       "      <td>HEAT/HOT WATER</td>\n",
       "      <td>HEAT/HOT WATER</td>\n",
       "    </tr>\n",
       "    <tr>\n",
       "      <td>2594843</td>\n",
       "      <td>27611775</td>\n",
       "      <td>2014-03-11</td>\n",
       "      <td>2014-03-14</td>\n",
       "      <td>HEAT/HOT WATER</td>\n",
       "      <td>APARTMENT ONLY</td>\n",
       "      <td>RESIDENTIAL BUILDING</td>\n",
       "      <td>11432.0</td>\n",
       "      <td>87-77 169 STREET</td>\n",
       "      <td>169 STREET</td>\n",
       "      <td>ADDRESS</td>\n",
       "      <td>Jamaica</td>\n",
       "      <td>Closed</td>\n",
       "      <td>The Department of Housing Preservation and Dev...</td>\n",
       "      <td>QUEENS</td>\n",
       "      <td>40.710473</td>\n",
       "      <td>-73.792888</td>\n",
       "      <td>2014</td>\n",
       "      <td>3</td>\n",
       "      <td>HEAT/HOT WATER</td>\n",
       "      <td>HEAT/HOT WATER</td>\n",
       "    </tr>\n",
       "    <tr>\n",
       "      <td>2594844</td>\n",
       "      <td>27611776</td>\n",
       "      <td>2014-03-11</td>\n",
       "      <td>2014-03-13</td>\n",
       "      <td>HEAT/HOT WATER</td>\n",
       "      <td>APARTMENT ONLY</td>\n",
       "      <td>RESIDENTIAL BUILDING</td>\n",
       "      <td>10031.0</td>\n",
       "      <td>524 WEST 145 STREET</td>\n",
       "      <td>WEST 145 STREET</td>\n",
       "      <td>ADDRESS</td>\n",
       "      <td>NEW YORK</td>\n",
       "      <td>Closed</td>\n",
       "      <td>The Department of Housing Preservation and Dev...</td>\n",
       "      <td>MANHATTAN</td>\n",
       "      <td>40.825595</td>\n",
       "      <td>-73.948489</td>\n",
       "      <td>2014</td>\n",
       "      <td>3</td>\n",
       "      <td>HEAT/HOT WATER</td>\n",
       "      <td>HEAT/HOT WATER</td>\n",
       "    </tr>\n",
       "  </tbody>\n",
       "</table>\n",
       "</div>"
      ],
      "text/plain": [
       "         Unique Key Created Date Closed Date  Complaint Type      Descriptor  \\\n",
       "2594842    27611774   2014-03-11  2014-03-13  HEAT/HOT WATER  APARTMENT ONLY   \n",
       "2594843    27611775   2014-03-11  2014-03-14  HEAT/HOT WATER  APARTMENT ONLY   \n",
       "2594844    27611776   2014-03-11  2014-03-13  HEAT/HOT WATER  APARTMENT ONLY   \n",
       "\n",
       "                Location Type  Incident Zip     Incident Address  \\\n",
       "2594842  RESIDENTIAL BUILDING       11216.0  551 NOSTRAND AVENUE   \n",
       "2594843  RESIDENTIAL BUILDING       11432.0     87-77 169 STREET   \n",
       "2594844  RESIDENTIAL BUILDING       10031.0  524 WEST 145 STREET   \n",
       "\n",
       "             Street Name Address Type      City  Status  \\\n",
       "2594842  NOSTRAND AVENUE      ADDRESS  BROOKLYN  Closed   \n",
       "2594843       169 STREET      ADDRESS   Jamaica  Closed   \n",
       "2594844  WEST 145 STREET      ADDRESS  NEW YORK  Closed   \n",
       "\n",
       "                                    Resolution Description    Borough  \\\n",
       "2594842  The Department of Housing Preservation and Dev...   BROOKLYN   \n",
       "2594843  The Department of Housing Preservation and Dev...     QUEENS   \n",
       "2594844  The Department of Housing Preservation and Dev...  MANHATTAN   \n",
       "\n",
       "          Latitude  Longitude  Created Year  Created Month Complaint Type 10  \\\n",
       "2594842  40.678626 -73.949663          2014              3    HEAT/HOT WATER   \n",
       "2594843  40.710473 -73.792888          2014              3    HEAT/HOT WATER   \n",
       "2594844  40.825595 -73.948489          2014              3    HEAT/HOT WATER   \n",
       "\n",
       "        Complaint Type top  \n",
       "2594842     HEAT/HOT WATER  \n",
       "2594843     HEAT/HOT WATER  \n",
       "2594844     HEAT/HOT WATER  "
      ]
     },
     "execution_count": 101,
     "metadata": {},
     "output_type": "execute_result"
    }
   ],
   "source": [
    "heating_df.head(3)"
   ]
  },
  {
   "cell_type": "code",
   "execution_count": 104,
   "metadata": {},
   "outputs": [
    {
     "data": {
      "text/plain": [
       "2014    132767\n",
       "2015    225706\n",
       "2016    227959\n",
       "2017    213521\n",
       "2018    223835\n",
       "2019    158680\n",
       "Name: Created Year, dtype: int64"
      ]
     },
     "execution_count": 104,
     "metadata": {},
     "output_type": "execute_result"
    }
   ],
   "source": [
    "heat_by_year = heating_df['Created Year'].value_counts().sort_index()\n",
    "heat_by_year.head(20)"
   ]
  },
  {
   "cell_type": "code",
   "execution_count": 107,
   "metadata": {},
   "outputs": [
    {
     "data": {
      "image/png": "[encoded data removed]",
      "text/plain": [
       "<Figure size 1080x576 with 1 Axes>"
      ]
     },
     "metadata": {},
     "output_type": "display_data"
    }
   ],
   "source": [
    "plt.figure(figsize=(15,8))\n",
    "plt.title('Annual complaints for Heating/Hot Water Issues')\n",
    "plt.ylabel('Number of Complaints')\n",
    "plt.xlabel('Complaint Year')\n",
    "plt.ylim(0, 250000)\n",
    "heat_by_year = heating_df['Created Year'].value_counts().sort_index()[:20].plot(kind='line')\n"
   ]
  },
  {
   "cell_type": "markdown",
   "metadata": {},
   "source": [
    "<font color=blue>Whilst there has been some variation in the number of \"Heat/HotWater\" complaints over the last 5 years, there doesn't seem to be an increasing trend</font>\n"
   ]
  },
  {
   "cell_type": "code",
   "execution_count": null,
   "metadata": {},
   "outputs": [],
   "source": []
  }
 ],
 "metadata": {
  "kernelspec": {
   "display_name": "Python 3",
   "language": "python",
   "name": "python3"
  },
  "language_info": {
   "codemirror_mode": {
    "name": "ipython",
    "version": 3
   },
   "file_extension": ".py",
   "mimetype": "text/x-python",
   "name": "python",
   "nbconvert_exporter": "python",
   "pygments_lexer": "ipython3",
   "version": "3.7.4"
  }
 },
 "nbformat": 4,
 "nbformat_minor": 2
}
